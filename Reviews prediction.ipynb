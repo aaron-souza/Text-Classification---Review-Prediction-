{
 "cells": [
  {
   "cell_type": "markdown",
   "metadata": {},
   "source": [
    "## COMP41680 - Assignment 2: Text Classification"
   ]
  },
  {
   "cell_type": "markdown",
   "metadata": {},
   "source": [
    "### Introduction"
   ]
  },
  {
   "cell_type": "markdown",
   "metadata": {},
   "source": [
    "Text Classification is performed to analyze textual data. Similar to any other analysis done on data to study it and find meaningful insight, analyzing text is also important. There are various different tweets, reviews, comments etc which needs to be analyzed to understand user opinions. \n",
    "\n",
    "The main aim of this assignment is to scrap the reviews from a web page, store them into a dataset with label Positive where the  star review is less than or equal to 3 or Negative when the star review is greater than 3 and then evaluate the performance of classification on the dataset.  The data of reviews of 5 different categories mentioned to the link below:\n",
    "http://mlg.ucd.ie/modules/yalp/\n",
    "\n",
    "As we are asked to use 2 different categories to perform analysis, for this assignment we are using Hotel and Travel & Restaurant data."
   ]
  },
  {
   "cell_type": "markdown",
   "metadata": {},
   "source": [
    "##### Importing all the required libraries"
   ]
  },
  {
   "cell_type": "code",
   "execution_count": 210,
   "metadata": {},
   "outputs": [],
   "source": [
    "import bs4\n",
    "from urllib.request import urlopen as urlReq\n",
    "import pandas as pd\n",
    "import numpy as np\n",
    "from bs4 import BeautifulSoup as soup\n",
    "\n",
    "import nltk\n",
    "from nltk.corpus import stopwords\n",
    "from nltk.tokenize import word_tokenize \n",
    "from sklearn.feature_extraction.text import CountVectorizer\n",
    "from sklearn.linear_model import LogisticRegression\n",
    "from sklearn.model_selection import train_test_split\n",
    "from sklearn.metrics import f1_score\n",
    "from sklearn.metrics import accuracy_score\n",
    "from sklearn import svm\n",
    "from sklearn.ensemble import RandomForestClassifier\n",
    "from sklearn.neighbors import KNeighborsClassifier\n",
    "\n",
    "import matplotlib\n",
    "import matplotlib.pyplot as plt\n",
    "%matplotlib inline"
   ]
  },
  {
   "cell_type": "markdown",
   "metadata": {},
   "source": [
    "### Task 1: Scrapping the reviews and rating for categories \"Hotel and Review\" and \"Restaurant\" "
   ]
  },
  {
   "cell_type": "code",
   "execution_count": 211,
   "metadata": {},
   "outputs": [],
   "source": [
    "# Creating method because we have scrap text from 2 different links for 2 different review category\n",
    "\n",
    "def scrappingWebText(categoryLink, fileName):\n",
    "    \n",
    "    f = open(fileName, \"w\", encoding=\"utf-8\")      # Writing the reviews to a file\n",
    "    f.write(\"ReviewText,ClassLabel\\n\")      #Creating headers for data in the newly created file      \n",
    "    \n",
    "    # Requesting the url link in the function parameter categoryLink and fetching the text on the page\n",
    "    categoryData = urlReq(categoryLink).read() \n",
    "    \n",
    "    # Processing the html data using the library beautiful soup\n",
    "    parsedData = soup(categoryData, \"html.parser\") \n",
    "    # print(parsedData)\n",
    "    \n",
    "    ####categoryBusinessList = parsedData.find_all(\"div\",{\"name\":\"main\"})\n",
    "    # Extracting the <a> tag avoiding the rest html tags \n",
    "    categoryBusinessList = parsedData.find_all(\"a\")\n",
    "    #print(categoryBusinessList)\n",
    "    \n",
    "    # Looping through each business and scrapping only the link required to get the reviews and ratings of different businesses.\n",
    "    reviewLinks = []\n",
    "    for i in categoryBusinessList:\n",
    "        \n",
    "        # Copying all the links of reviews of businesses into a list named reviewLinks\n",
    "        reviewLinks.append(i[\"href\"])\n",
    "    \n",
    "    #print(reviewLinks)\n",
    "    \n",
    "    actualReviewLinks = []\n",
    "    for i in reviewLinks:\n",
    "        \n",
    "        # appending the link http://mlg.ucd.ie/modules/yalp/ to all the reviews in reviewLinks list to get the actual data\n",
    "        actualReviewLinks.append(\"http://mlg.ucd.ie/modules/yalp/\" + i)\n",
    "    \n",
    "    #print(actualReviewLinks)\n",
    "    \n",
    "    # Processing actual data and writing the reviews and ratings to file\n",
    "    for link in actualReviewLinks:\n",
    "        textData = urlReq(link).read()    # Requesting the Review link and reading the review text and ratings\n",
    "        \n",
    "        # Parsing the html data\n",
    "        parsedData = soup(textData, \"html.parser\")\n",
    "        \n",
    "        # Fetching all the <div> tags with class review\n",
    "        reviewAndRatings = parsedData.find_all(\"div\",{\"class\":\"review\"})\n",
    "        #print(reviewAndRatings)\n",
    "    \n",
    "        # Iterating through each tag that consists of comment text and rating star data\n",
    "        for i in reviewAndRatings:\n",
    "            rating = i.img[\"alt\"]    # To get star rating \n",
    "            \n",
    "            # Logic to check the rating and set it to appropriate class labels\n",
    "            if(rating == '5-star' or rating == '4-star'):\n",
    "                finalRating = 'Positive'\n",
    "            else:\n",
    "                finalRating = 'Negative'\n",
    "            \n",
    "            # Getting reviews text \n",
    "            review = i.find_all(\"p\",{\"class\":\"text\"})\n",
    "\n",
    "            finalReview = review[0].text.strip()     # Stripping the text data to remove extra spaces\n",
    "            finalReview = finalReview.replace(\",\", \" \")     # Removing ',' and replacing with space to store the entire content\n",
    "                                                            # as one field vale in the CSV file.\n",
    "            \n",
    "            # Writing the review and rating data to file\n",
    "            row = finalReview +\",\"+ finalRating +\"\\n\"\n",
    "            f.write(row)\n",
    " \n",
    "            "
   ]
  },
  {
   "cell_type": "code",
   "execution_count": 212,
   "metadata": {},
   "outputs": [],
   "source": [
    "# calling the function to scrap the reviews and ratings for hotel and travel companies\n",
    "scrappingWebText(\"http://mlg.ucd.ie/modules/yalp/hotels_travel_list.html\", \"HotelsAndTravel.csv\")\n",
    "\n",
    "# calling the function to scrap the reviews and ratings for different Restaurants\n",
    "scrappingWebText(\"http://mlg.ucd.ie/modules/yalp/restaurants_list.html\", \"Restaurant.csv\")"
   ]
  },
  {
   "cell_type": "markdown",
   "metadata": {},
   "source": [
    "### Task 2: Performing pre-processing on the data collected for categories\n",
    "### Task 3: Evaluating how well classification model transfer between categories"
   ]
  },
  {
   "cell_type": "code",
   "execution_count": 213,
   "metadata": {},
   "outputs": [],
   "source": [
    "# Reading data for CSV files both the categories - HotelAndTravel and Restaurant\n",
    "data_hotelandtravel = pd.read_csv(\"HotelsAndTravel.csv\")\n",
    "data_restaurant=pd.read_csv(\"Restaurant.csv\")\n",
    "\n",
    "# Getting the total number of rows in each dataframe\n",
    "length_handt = len(data_hotelandtravel)\n",
    "len_res = len(data_restaurant)"
   ]
  },
  {
   "cell_type": "code",
   "execution_count": 214,
   "metadata": {},
   "outputs": [
    {
     "data": {
      "text/html": [
       "<div>\n",
       "<style scoped>\n",
       "    .dataframe tbody tr th:only-of-type {\n",
       "        vertical-align: middle;\n",
       "    }\n",
       "\n",
       "    .dataframe tbody tr th {\n",
       "        vertical-align: top;\n",
       "    }\n",
       "\n",
       "    .dataframe thead th {\n",
       "        text-align: right;\n",
       "    }\n",
       "</style>\n",
       "<table border=\"1\" class=\"dataframe\">\n",
       "  <thead>\n",
       "    <tr style=\"text-align: right;\">\n",
       "      <th></th>\n",
       "      <th>ReviewText</th>\n",
       "      <th>ClassLabel</th>\n",
       "    </tr>\n",
       "  </thead>\n",
       "  <tbody>\n",
       "    <tr>\n",
       "      <th>0</th>\n",
       "      <td>I have used this service before and was satisf...</td>\n",
       "      <td>Negative</td>\n",
       "    </tr>\n",
       "    <tr>\n",
       "      <th>1</th>\n",
       "      <td>First time I tried using them the driver was n...</td>\n",
       "      <td>Negative</td>\n",
       "    </tr>\n",
       "    <tr>\n",
       "      <th>2</th>\n",
       "      <td>Driver picked me up on time at 6AM and even kn...</td>\n",
       "      <td>Positive</td>\n",
       "    </tr>\n",
       "    <tr>\n",
       "      <th>3</th>\n",
       "      <td>First time using this taxi and limo company as...</td>\n",
       "      <td>Positive</td>\n",
       "    </tr>\n",
       "    <tr>\n",
       "      <th>4</th>\n",
       "      <td>Great experience. Driver was early and was ver...</td>\n",
       "      <td>Positive</td>\n",
       "    </tr>\n",
       "    <tr>\n",
       "      <th>5</th>\n",
       "      <td>Ive used Aeroport a few times now and i highly...</td>\n",
       "      <td>Positive</td>\n",
       "    </tr>\n",
       "    <tr>\n",
       "      <th>6</th>\n",
       "      <td>Got of the plane walked out of the airport the...</td>\n",
       "      <td>Positive</td>\n",
       "    </tr>\n",
       "    <tr>\n",
       "      <th>7</th>\n",
       "      <td>Can't fault the service. Arrives on time every...</td>\n",
       "      <td>Positive</td>\n",
       "    </tr>\n",
       "    <tr>\n",
       "      <th>8</th>\n",
       "      <td>Limousine was on time. Driver was very helpful...</td>\n",
       "      <td>Positive</td>\n",
       "    </tr>\n",
       "    <tr>\n",
       "      <th>9</th>\n",
       "      <td>Made my reservation online. Was picked up on t...</td>\n",
       "      <td>Positive</td>\n",
       "    </tr>\n",
       "    <tr>\n",
       "      <th>10</th>\n",
       "      <td>Great cars and drivers  can even get a minivan...</td>\n",
       "      <td>Positive</td>\n",
       "    </tr>\n",
       "    <tr>\n",
       "      <th>11</th>\n",
       "      <td>I've used these guys 3 times now and they make...</td>\n",
       "      <td>Positive</td>\n",
       "    </tr>\n",
       "    <tr>\n",
       "      <th>12</th>\n",
       "      <td>Ordered a car and van for a 3:30am pick up and...</td>\n",
       "      <td>Negative</td>\n",
       "    </tr>\n",
       "    <tr>\n",
       "      <th>13</th>\n",
       "      <td>Great experience from Pearson Int'l Terminal 3...</td>\n",
       "      <td>Positive</td>\n",
       "    </tr>\n",
       "    <tr>\n",
       "      <th>14</th>\n",
       "      <td>Reserved a minivan with carseat for pick up at...</td>\n",
       "      <td>Negative</td>\n",
       "    </tr>\n",
       "    <tr>\n",
       "      <th>15</th>\n",
       "      <td>Very good experience. Driver arrived 10 mins e...</td>\n",
       "      <td>Positive</td>\n",
       "    </tr>\n",
       "    <tr>\n",
       "      <th>16</th>\n",
       "      <td>Brutal driver  a very unhappy person. Seemed l...</td>\n",
       "      <td>Positive</td>\n",
       "    </tr>\n",
       "    <tr>\n",
       "      <th>17</th>\n",
       "      <td>Took a minivan with bulky cargo from the airpo...</td>\n",
       "      <td>Positive</td>\n",
       "    </tr>\n",
       "    <tr>\n",
       "      <th>18</th>\n",
       "      <td>I've tried using this service multiple times f...</td>\n",
       "      <td>Negative</td>\n",
       "    </tr>\n",
       "    <tr>\n",
       "      <th>19</th>\n",
       "      <td>This is to follow up on my original posting. A...</td>\n",
       "      <td>Positive</td>\n",
       "    </tr>\n",
       "    <tr>\n",
       "      <th>20</th>\n",
       "      <td>I have used them twice and have not had a bad ...</td>\n",
       "      <td>Positive</td>\n",
       "    </tr>\n",
       "    <tr>\n",
       "      <th>21</th>\n",
       "      <td>We travel nationally and internationally at le...</td>\n",
       "      <td>Negative</td>\n",
       "    </tr>\n",
       "    <tr>\n",
       "      <th>22</th>\n",
       "      <td>It is the worst airport limo service. I have h...</td>\n",
       "      <td>Negative</td>\n",
       "    </tr>\n",
       "    <tr>\n",
       "      <th>23</th>\n",
       "      <td>My experience with these guys have been pretty...</td>\n",
       "      <td>Positive</td>\n",
       "    </tr>\n",
       "    <tr>\n",
       "      <th>24</th>\n",
       "      <td>Booked a pickup online for Saturday at 6:30am ...</td>\n",
       "      <td>Positive</td>\n",
       "    </tr>\n",
       "    <tr>\n",
       "      <th>25</th>\n",
       "      <td>I wouldn't recommend this service. Was verball...</td>\n",
       "      <td>Negative</td>\n",
       "    </tr>\n",
       "    <tr>\n",
       "      <th>26</th>\n",
       "      <td>Used these guys for a flight out on new years ...</td>\n",
       "      <td>Positive</td>\n",
       "    </tr>\n",
       "    <tr>\n",
       "      <th>27</th>\n",
       "      <td>Note: I just tried to rebook the same exact tr...</td>\n",
       "      <td>Negative</td>\n",
       "    </tr>\n",
       "    <tr>\n",
       "      <th>28</th>\n",
       "      <td>The last time I prebooked  the car was 10 mins...</td>\n",
       "      <td>Negative</td>\n",
       "    </tr>\n",
       "    <tr>\n",
       "      <th>29</th>\n",
       "      <td>Used these guys for pick up from the home to t...</td>\n",
       "      <td>Positive</td>\n",
       "    </tr>\n",
       "    <tr>\n",
       "      <th>...</th>\n",
       "      <td>...</td>\n",
       "      <td>...</td>\n",
       "    </tr>\n",
       "    <tr>\n",
       "      <th>2840</th>\n",
       "      <td>Wednesday night $4 Martini's...oh boy! Enough ...</td>\n",
       "      <td>Negative</td>\n",
       "    </tr>\n",
       "    <tr>\n",
       "      <th>2841</th>\n",
       "      <td>This is hands-down the strangest restaurant I'...</td>\n",
       "      <td>Negative</td>\n",
       "    </tr>\n",
       "    <tr>\n",
       "      <th>2842</th>\n",
       "      <td>I would recommend saving your money. I've neve...</td>\n",
       "      <td>Negative</td>\n",
       "    </tr>\n",
       "    <tr>\n",
       "      <th>2843</th>\n",
       "      <td>Situated across from TIFF Lightbox is this ``u...</td>\n",
       "      <td>Negative</td>\n",
       "    </tr>\n",
       "    <tr>\n",
       "      <th>2844</th>\n",
       "      <td>Despite the semi-kitschy decor  this little Ki...</td>\n",
       "      <td>Positive</td>\n",
       "    </tr>\n",
       "    <tr>\n",
       "      <th>2845</th>\n",
       "      <td>Ate breakfast here - reasonable food at reason...</td>\n",
       "      <td>Negative</td>\n",
       "    </tr>\n",
       "    <tr>\n",
       "      <th>2846</th>\n",
       "      <td>I had heard some mixed reviews about Ultimate ...</td>\n",
       "      <td>Negative</td>\n",
       "    </tr>\n",
       "    <tr>\n",
       "      <th>2847</th>\n",
       "      <td>As one walks down King Street between John Str...</td>\n",
       "      <td>Negative</td>\n",
       "    </tr>\n",
       "    <tr>\n",
       "      <th>2848</th>\n",
       "      <td>Tried their 9.99 deal for a large and it was t...</td>\n",
       "      <td>Negative</td>\n",
       "    </tr>\n",
       "    <tr>\n",
       "      <th>2849</th>\n",
       "      <td>my daughter opted for a slice of plain pizza. ...</td>\n",
       "      <td>Negative</td>\n",
       "    </tr>\n",
       "    <tr>\n",
       "      <th>2850</th>\n",
       "      <td>Pizza might be good if it was hot. I have trie...</td>\n",
       "      <td>Negative</td>\n",
       "    </tr>\n",
       "    <tr>\n",
       "      <th>2851</th>\n",
       "      <td>My son and I decided to go here after the Anth...</td>\n",
       "      <td>Negative</td>\n",
       "    </tr>\n",
       "    <tr>\n",
       "      <th>2852</th>\n",
       "      <td>Welcome to the only restaurant in the state of...</td>\n",
       "      <td>Negative</td>\n",
       "    </tr>\n",
       "    <tr>\n",
       "      <th>2853</th>\n",
       "      <td>Wow I had such a terrible experience here. I t...</td>\n",
       "      <td>Negative</td>\n",
       "    </tr>\n",
       "    <tr>\n",
       "      <th>2854</th>\n",
       "      <td>Excellent food  excellent atmosphere. Very goo...</td>\n",
       "      <td>Positive</td>\n",
       "    </tr>\n",
       "    <tr>\n",
       "      <th>2855</th>\n",
       "      <td>I've gone to Villa Risi many times to celebrat...</td>\n",
       "      <td>Positive</td>\n",
       "    </tr>\n",
       "    <tr>\n",
       "      <th>2856</th>\n",
       "      <td>I had a recently had a private function at Vil...</td>\n",
       "      <td>Positive</td>\n",
       "    </tr>\n",
       "    <tr>\n",
       "      <th>2857</th>\n",
       "      <td>25 years worth of excellent meals here. If it ...</td>\n",
       "      <td>Positive</td>\n",
       "    </tr>\n",
       "    <tr>\n",
       "      <th>2858</th>\n",
       "      <td>Birthday dinner with my husband. This is my 4t...</td>\n",
       "      <td>Positive</td>\n",
       "    </tr>\n",
       "    <tr>\n",
       "      <th>2859</th>\n",
       "      <td>I was given a Vivo gift certificate for my bir...</td>\n",
       "      <td>Negative</td>\n",
       "    </tr>\n",
       "    <tr>\n",
       "      <th>2860</th>\n",
       "      <td>This is some of the best  if not THE best past...</td>\n",
       "      <td>Positive</td>\n",
       "    </tr>\n",
       "    <tr>\n",
       "      <th>2861</th>\n",
       "      <td>Great cozy place  we had a enjoyable dinner st...</td>\n",
       "      <td>Positive</td>\n",
       "    </tr>\n",
       "    <tr>\n",
       "      <th>2862</th>\n",
       "      <td>The food is the only reason I gave them 2 star...</td>\n",
       "      <td>Negative</td>\n",
       "    </tr>\n",
       "    <tr>\n",
       "      <th>2863</th>\n",
       "      <td>Fraud on top of pathetic food/customer service...</td>\n",
       "      <td>Negative</td>\n",
       "    </tr>\n",
       "    <tr>\n",
       "      <th>2864</th>\n",
       "      <td>Got to love when one of the owners is the chef...</td>\n",
       "      <td>Positive</td>\n",
       "    </tr>\n",
       "    <tr>\n",
       "      <th>2865</th>\n",
       "      <td>Took my BFF to Vivo for her birthday. I had ne...</td>\n",
       "      <td>Negative</td>\n",
       "    </tr>\n",
       "    <tr>\n",
       "      <th>2866</th>\n",
       "      <td>We were invited out to dinner with our neighbo...</td>\n",
       "      <td>Negative</td>\n",
       "    </tr>\n",
       "    <tr>\n",
       "      <th>2867</th>\n",
       "      <td>Very Very good!! food has been exceptional all...</td>\n",
       "      <td>Positive</td>\n",
       "    </tr>\n",
       "    <tr>\n",
       "      <th>2868</th>\n",
       "      <td>If I focused entirely on the food  5 stars. Th...</td>\n",
       "      <td>Negative</td>\n",
       "    </tr>\n",
       "    <tr>\n",
       "      <th>2869</th>\n",
       "      <td>Myself and two friends went to Vivo for the fi...</td>\n",
       "      <td>Positive</td>\n",
       "    </tr>\n",
       "  </tbody>\n",
       "</table>\n",
       "<p>2870 rows × 2 columns</p>\n",
       "</div>"
      ],
      "text/plain": [
       "                                             ReviewText ClassLabel\n",
       "0     I have used this service before and was satisf...   Negative\n",
       "1     First time I tried using them the driver was n...   Negative\n",
       "2     Driver picked me up on time at 6AM and even kn...   Positive\n",
       "3     First time using this taxi and limo company as...   Positive\n",
       "4     Great experience. Driver was early and was ver...   Positive\n",
       "5     Ive used Aeroport a few times now and i highly...   Positive\n",
       "6     Got of the plane walked out of the airport the...   Positive\n",
       "7     Can't fault the service. Arrives on time every...   Positive\n",
       "8     Limousine was on time. Driver was very helpful...   Positive\n",
       "9     Made my reservation online. Was picked up on t...   Positive\n",
       "10    Great cars and drivers  can even get a minivan...   Positive\n",
       "11    I've used these guys 3 times now and they make...   Positive\n",
       "12    Ordered a car and van for a 3:30am pick up and...   Negative\n",
       "13    Great experience from Pearson Int'l Terminal 3...   Positive\n",
       "14    Reserved a minivan with carseat for pick up at...   Negative\n",
       "15    Very good experience. Driver arrived 10 mins e...   Positive\n",
       "16    Brutal driver  a very unhappy person. Seemed l...   Positive\n",
       "17    Took a minivan with bulky cargo from the airpo...   Positive\n",
       "18    I've tried using this service multiple times f...   Negative\n",
       "19    This is to follow up on my original posting. A...   Positive\n",
       "20    I have used them twice and have not had a bad ...   Positive\n",
       "21    We travel nationally and internationally at le...   Negative\n",
       "22    It is the worst airport limo service. I have h...   Negative\n",
       "23    My experience with these guys have been pretty...   Positive\n",
       "24    Booked a pickup online for Saturday at 6:30am ...   Positive\n",
       "25    I wouldn't recommend this service. Was verball...   Negative\n",
       "26    Used these guys for a flight out on new years ...   Positive\n",
       "27    Note: I just tried to rebook the same exact tr...   Negative\n",
       "28    The last time I prebooked  the car was 10 mins...   Negative\n",
       "29    Used these guys for pick up from the home to t...   Positive\n",
       "...                                                 ...        ...\n",
       "2840  Wednesday night $4 Martini's...oh boy! Enough ...   Negative\n",
       "2841  This is hands-down the strangest restaurant I'...   Negative\n",
       "2842  I would recommend saving your money. I've neve...   Negative\n",
       "2843  Situated across from TIFF Lightbox is this ``u...   Negative\n",
       "2844  Despite the semi-kitschy decor  this little Ki...   Positive\n",
       "2845  Ate breakfast here - reasonable food at reason...   Negative\n",
       "2846  I had heard some mixed reviews about Ultimate ...   Negative\n",
       "2847  As one walks down King Street between John Str...   Negative\n",
       "2848  Tried their 9.99 deal for a large and it was t...   Negative\n",
       "2849  my daughter opted for a slice of plain pizza. ...   Negative\n",
       "2850  Pizza might be good if it was hot. I have trie...   Negative\n",
       "2851  My son and I decided to go here after the Anth...   Negative\n",
       "2852  Welcome to the only restaurant in the state of...   Negative\n",
       "2853  Wow I had such a terrible experience here. I t...   Negative\n",
       "2854  Excellent food  excellent atmosphere. Very goo...   Positive\n",
       "2855  I've gone to Villa Risi many times to celebrat...   Positive\n",
       "2856  I had a recently had a private function at Vil...   Positive\n",
       "2857  25 years worth of excellent meals here. If it ...   Positive\n",
       "2858  Birthday dinner with my husband. This is my 4t...   Positive\n",
       "2859  I was given a Vivo gift certificate for my bir...   Negative\n",
       "2860  This is some of the best  if not THE best past...   Positive\n",
       "2861  Great cozy place  we had a enjoyable dinner st...   Positive\n",
       "2862  The food is the only reason I gave them 2 star...   Negative\n",
       "2863  Fraud on top of pathetic food/customer service...   Negative\n",
       "2864  Got to love when one of the owners is the chef...   Positive\n",
       "2865  Took my BFF to Vivo for her birthday. I had ne...   Negative\n",
       "2866  We were invited out to dinner with our neighbo...   Negative\n",
       "2867  Very Very good!! food has been exceptional all...   Positive\n",
       "2868  If I focused entirely on the food  5 stars. Th...   Negative\n",
       "2869  Myself and two friends went to Vivo for the fi...   Positive\n",
       "\n",
       "[2870 rows x 2 columns]"
      ]
     },
     "execution_count": 214,
     "metadata": {},
     "output_type": "execute_result"
    }
   ],
   "source": [
    "# Combining the data of both the dataframes together into a single dataframe\n",
    "combine = data_hotelandtravel.append(data_restaurant, ignore_index=True)\n",
    "combine"
   ]
  },
  {
   "cell_type": "code",
   "execution_count": 215,
   "metadata": {},
   "outputs": [],
   "source": [
    "# Cleaning data by removing words that doesn't consists of alphabets and removing words with length less than or equal to 3. \n",
    "combine['Clean text'] = combine['ReviewText'].str.replace(\"[^a-zA-Z]\", \" \")\n",
    "combine['Clean text'] = combine['Clean text'].apply(lambda x: ' '.join([w for w in x.split() if len(w)>3]))\n",
    "#tokens = combine['Clean text'].apply(lambda x: x.split())\n",
    "\n",
    "# grenerating tokens\n",
    "tokens =combine['Clean text'].apply(lambda x: nltk.word_tokenize(x.lower()))\n"
   ]
  },
  {
   "cell_type": "markdown",
   "metadata": {},
   "source": [
    "For using the pos_tag command of nltk package, it is important to download the package 'averaged_perceptron_tagger' to allow the command tag_pos generate different tags for a word\n",
    "\n",
    "**Execute this command if required: nltk.download('averaged_perceptron_tagger')\n",
    "\n",
    "We came across this error when we tested this python code on a different system which didn't had the package installed. "
   ]
  },
  {
   "cell_type": "code",
   "execution_count": 216,
   "metadata": {},
   "outputs": [],
   "source": [
    "# Each word in a sentence has its own identification in the context. It may represent a noun, verb, preposition or \n",
    "# other determination. Thus taggers are used to assign different tags for each words.\n",
    "\n",
    "tokens =tokens.apply(lambda x: nltk.pos_tag(x))"
   ]
  },
  {
   "cell_type": "code",
   "execution_count": 217,
   "metadata": {},
   "outputs": [
    {
     "data": {
      "text/plain": [
       "0       [(have, VB), (used, VBN), (this, DT), (service...\n",
       "1       [(first, JJ), (time, NN), (tried, VBN), (using...\n",
       "2       [(driver, NN), (picked, VBD), (time, NN), (eve...\n",
       "3       [(first, JJ), (time, NN), (using, VBG), (this,...\n",
       "4       [(great, JJ), (experience, NN), (driver, RB), ...\n",
       "5       [(used, VBN), (aeroport, NN), (times, NNS), (h...\n",
       "6       [(plane, NN), (walked, VBD), (airport, NN), (w...\n",
       "7       [(fault, NN), (service, NN), (arrives, NNS), (...\n",
       "8       [(limousine, JJ), (time, NN), (driver, VB), (v...\n",
       "9       [(made, VBN), (reservation, NN), (online, NN),...\n",
       "10      [(great, JJ), (cars, NNS), (drivers, NNS), (ev...\n",
       "11      [(used, VBN), (these, DT), (guys, NNS), (times...\n",
       "12      [(ordered, VBN), (pick, NN), (only, RB), (came...\n",
       "13      [(great, JJ), (experience, NN), (from, IN), (p...\n",
       "14      [(reserved, VBN), (minivan, NN), (with, IN), (...\n",
       "15      [(very, RB), (good, JJ), (experience, NN), (dr...\n",
       "16      [(brutal, JJ), (driver, NN), (very, RB), (unha...\n",
       "17      [(took, VBD), (minivan, NN), (with, IN), (bulk...\n",
       "18      [(tried, VBN), (using, VBG), (this, DT), (serv...\n",
       "19      [(this, DT), (follow, JJ), (original, JJ), (po...\n",
       "20      [(have, VBP), (used, VBN), (them, PRP), (twice...\n",
       "21      [(travel, NN), (nationally, RB), (internationa...\n",
       "22      [(worst, JJS), (airport, NN), (limo, NN), (ser...\n",
       "23      [(experience, NN), (with, IN), (these, DT), (g...\n",
       "24      [(booked, VBN), (pickup, NN), (online, NN), (s...\n",
       "25      [(wouldn, JJ), (recommend, VB), (this, DT), (s...\n",
       "26      [(used, VBN), (these, DT), (guys, NNS), (fligh...\n",
       "27      [(note, NN), (just, RB), (tried, VBN), (rebook...\n",
       "28      [(last, JJ), (time, NN), (prebooked, VBD), (mi...\n",
       "29      [(used, VBN), (these, DT), (guys, NNS), (pick,...\n",
       "                              ...                        \n",
       "2840    [(wednesday, JJ), (night, NN), (martini, NN), ...\n",
       "2841    [(this, DT), (hands, VBZ), (down, RP), (strang...\n",
       "2842    [(would, MD), (recommend, VB), (saving, VBG), ...\n",
       "2843    [(situated, VBN), (across, IN), (from, IN), (t...\n",
       "2844    [(despite, IN), (semi, JJ), (kitschy, FW), (de...\n",
       "2845    [(breakfast, NN), (here, RB), (reasonable, JJ)...\n",
       "2846    [(heard, RB), (some, DT), (mixed, JJ), (review...\n",
       "2847    [(walks, NNS), (down, RP), (king, VBG), (stree...\n",
       "2848    [(tried, VBN), (their, PRP$), (deal, NN), (lar...\n",
       "2849    [(daughter, NN), (opted, VBD), (slice, NN), (p...\n",
       "2850    [(pizza, NN), (might, MD), (good, VB), (have, ...\n",
       "2851    [(decided, VBN), (here, RB), (after, IN), (ant...\n",
       "2852    [(welcome, NN), (only, RB), (restaurant, JJ), ...\n",
       "2853    [(such, JJ), (terrible, JJ), (experience, NN),...\n",
       "2854    [(excellent, JJ), (food, NN), (excellent, NN),...\n",
       "2855    [(gone, VBN), (villa, JJ), (risi, RB), (many, ...\n",
       "2856    [(recently, RB), (private, JJ), (function, NN)...\n",
       "2857    [(years, NNS), (worth, JJ), (excellent, JJ), (...\n",
       "2858    [(birthday, NN), (dinner, NN), (with, IN), (hu...\n",
       "2859    [(given, VBN), (vivo, NNS), (gift, NN), (certi...\n",
       "2860    [(this, DT), (some, DT), (best, JJS), (best, J...\n",
       "2861    [(great, JJ), (cozy, JJ), (place, NN), (enjoya...\n",
       "2862    [(food, NN), (only, RB), (reason, NN), (gave, ...\n",
       "2863    [(fraud, NN), (pathetic, JJ), (food, NN), (cus...\n",
       "2864    [(love, NN), (when, WRB), (owners, NNS), (chef...\n",
       "2865    [(took, VBD), (vivo, NN), (birthday, NN), (nev...\n",
       "2866    [(were, VBD), (invited, VBN), (dinner, NN), (w...\n",
       "2867    [(very, RB), (very, RB), (good, JJ), (food, NN...\n",
       "2868    [(focused, VBN), (entirely, RB), (food, NN), (...\n",
       "2869    [(myself, PRP), (friends, VBZ), (went, VBD), (...\n",
       "Name: Clean text, Length: 2870, dtype: object"
      ]
     },
     "execution_count": 217,
     "metadata": {},
     "output_type": "execute_result"
    }
   ],
   "source": [
    "# Will generate output with each word with its tag.\n",
    "\n",
    "tokens"
   ]
  },
  {
   "cell_type": "markdown",
   "metadata": {},
   "source": [
    "For using the Lemmatize command of nltk package, it is important to download the package 'wordnet'.\n",
    "\n",
    "**Execute this command if required: nltk.download('wordnet')\n",
    "\n",
    "We came across this error when we tested this python code on a different system which didn't had the package installed. "
   ]
  },
  {
   "cell_type": "code",
   "execution_count": 218,
   "metadata": {},
   "outputs": [
    {
     "data": {
      "text/plain": [
       "0       have used this service before satisfy until ju...\n",
       "1       first time tried use them driver nowhere found...\n",
       "2       driver pick time even knock door instead ring ...\n",
       "3       first time use this taxi limo company have use...\n",
       "4       great experience driver early very friendly th...\n",
       "5       used aeroport time highly recommend always tim...\n",
       "6       plane walk airport wait walk brought could lug...\n",
       "7       fault service arrives time every time have use...\n",
       "8       limousine time driver very helpful courteous v...\n",
       "9       made reservation online pick time driver court...\n",
       "10      great car driver even minivan extra whole fami...\n",
       "11      used these guy time they make your trip airpor...\n",
       "12      ordered pick only come call inquired about ope...\n",
       "13      great experience from pearson terminal front d...\n",
       "14      reserved minivan with carseat pick billy bisho...\n",
       "15      very good experience driver arrive min early l...\n",
       "16      brutal driver very unhappy person seem like ne...\n",
       "17      take minivan with bulky cargo from airport loo...\n",
       "18      tried use this service multiple time from pear...\n",
       "19      this follow original post about week receive c...\n",
       "20      have used them twice have experience they come...\n",
       "21      travel nationally internationally least time y...\n",
       "22      worst airport limo service have great experien...\n",
       "23      experience with these guy have been pretty pos...\n",
       "24      booked pickup online saturday driver arrive mi...\n",
       "25      wouldn recommend this service verbally abuse d...\n",
       "26      used these guy flight year they be there minut...\n",
       "27      note just tried rebook same exact trip take pr...\n",
       "28      last time prebooked min late second time after...\n",
       "29      used these guy pick from home airport their pr...\n",
       "                              ...                        \n",
       "2840    wednesday night martini enough say will just h...\n",
       "2841    this hand down strangest restaurant been most ...\n",
       "2842    would recommend save your money never written ...\n",
       "2843    situated across from tiff lightbox this ultima...\n",
       "2844    despite semi kitschy decor this little king ca...\n",
       "2845    breakfast here reasonable food reasonable pric...\n",
       "2846    heard some mixed review about ultimate cafe be...\n",
       "2847    walk down king street between john street pete...\n",
       "2848    tried their deal large most disgusting thing e...\n",
       "2849    daughter opt slice plain pizza felt plate go b...\n",
       "2850    pizza might good have tried this place numerou...\n",
       "2851    decided here after anthem christmas tree light...\n",
       "2852    welcome only restaurant state that doesn allow...\n",
       "2853    such terrible experience here take year parent...\n",
       "2854    excellent food excellent atmosphere very good ...\n",
       "2855    gone villa risi many time celebrate special oc...\n",
       "2856    recently private function villa risi speak own...\n",
       "2857    year worth excellent meal here closer toronto ...\n",
       "2858    birthday dinner with husband this time here ha...\n",
       "2859    given vivo gift certificate birthday go servic...\n",
       "2860    this some best best pasta meatball have ever e...\n",
       "2861    great cozy place enjoyable dinner start with s...\n",
       "2862    food only reason give them star go wednesday h...\n",
       "2863    fraud pathetic food customer service read bewa...\n",
       "2864    love when owner chef business meeting there ro...\n",
       "2865    take vivo birthday never been there before act...\n",
       "2866    be invited dinner with neighbor happened have ...\n",
       "2867    very very good food been exceptional time been...\n",
       "2868    focused entirely food star then atmosphere cur...\n",
       "2869    myself friends go vivo first time friday night...\n",
       "Name: Clean text, Length: 2870, dtype: object"
      ]
     },
     "execution_count": 218,
     "metadata": {},
     "output_type": "execute_result"
    }
   ],
   "source": [
    "# Lemmatizing words to claen the data. Lemmatizing breaks the words and removes verb tenses.\n",
    "# Using nltk WordNetLemmatizer\n",
    "wnl = nltk.WordNetLemmatizer()\n",
    "\n",
    "# Function to convert the tags assigned to each word to char 'v' or 'n' so that Lemmatize method can understand and perform the\n",
    "# operation accordingly.\n",
    "def convert_tags(tag):\n",
    "    if tag=='vbd' or tag=='vbg' or tag=='vbz':\n",
    "        return 'v'\n",
    "    else:\n",
    "        return 'n'\n",
    "    \n",
    "# Iterating through each word and lemmatizing them based on the tags\n",
    "count=0\n",
    "for l in tokens:\n",
    "    temp=[]\n",
    "    for w in l:\n",
    "        new_tag=convert_tags(w[1].lower())\n",
    "        temp.append(wnl.lemmatize(w[0], new_tag))\n",
    "    tokens[count]=' '.join(temp)\n",
    "    count+=1\n",
    "    \n",
    "# Printing the tokens\n",
    "tokens"
   ]
  },
  {
   "cell_type": "code",
   "execution_count": 219,
   "metadata": {},
   "outputs": [
    {
     "data": {
      "text/html": [
       "<div>\n",
       "<style scoped>\n",
       "    .dataframe tbody tr th:only-of-type {\n",
       "        vertical-align: middle;\n",
       "    }\n",
       "\n",
       "    .dataframe tbody tr th {\n",
       "        vertical-align: top;\n",
       "    }\n",
       "\n",
       "    .dataframe thead th {\n",
       "        text-align: right;\n",
       "    }\n",
       "</style>\n",
       "<table border=\"1\" class=\"dataframe\">\n",
       "  <thead>\n",
       "    <tr style=\"text-align: right;\">\n",
       "      <th></th>\n",
       "      <th>ReviewText</th>\n",
       "      <th>ClassLabel</th>\n",
       "      <th>Clean text</th>\n",
       "    </tr>\n",
       "  </thead>\n",
       "  <tbody>\n",
       "    <tr>\n",
       "      <th>0</th>\n",
       "      <td>I have used this service before and was satisf...</td>\n",
       "      <td>0</td>\n",
       "      <td>have used this service before satisfy until ju...</td>\n",
       "    </tr>\n",
       "    <tr>\n",
       "      <th>1</th>\n",
       "      <td>First time I tried using them the driver was n...</td>\n",
       "      <td>0</td>\n",
       "      <td>first time tried use them driver nowhere found...</td>\n",
       "    </tr>\n",
       "    <tr>\n",
       "      <th>2</th>\n",
       "      <td>Driver picked me up on time at 6AM and even kn...</td>\n",
       "      <td>1</td>\n",
       "      <td>driver pick time even knock door instead ring ...</td>\n",
       "    </tr>\n",
       "    <tr>\n",
       "      <th>3</th>\n",
       "      <td>First time using this taxi and limo company as...</td>\n",
       "      <td>1</td>\n",
       "      <td>first time use this taxi limo company have use...</td>\n",
       "    </tr>\n",
       "    <tr>\n",
       "      <th>4</th>\n",
       "      <td>Great experience. Driver was early and was ver...</td>\n",
       "      <td>1</td>\n",
       "      <td>great experience driver early very friendly th...</td>\n",
       "    </tr>\n",
       "    <tr>\n",
       "      <th>5</th>\n",
       "      <td>Ive used Aeroport a few times now and i highly...</td>\n",
       "      <td>1</td>\n",
       "      <td>used aeroport time highly recommend always tim...</td>\n",
       "    </tr>\n",
       "    <tr>\n",
       "      <th>6</th>\n",
       "      <td>Got of the plane walked out of the airport the...</td>\n",
       "      <td>1</td>\n",
       "      <td>plane walk airport wait walk brought could lug...</td>\n",
       "    </tr>\n",
       "    <tr>\n",
       "      <th>7</th>\n",
       "      <td>Can't fault the service. Arrives on time every...</td>\n",
       "      <td>1</td>\n",
       "      <td>fault service arrives time every time have use...</td>\n",
       "    </tr>\n",
       "    <tr>\n",
       "      <th>8</th>\n",
       "      <td>Limousine was on time. Driver was very helpful...</td>\n",
       "      <td>1</td>\n",
       "      <td>limousine time driver very helpful courteous v...</td>\n",
       "    </tr>\n",
       "    <tr>\n",
       "      <th>9</th>\n",
       "      <td>Made my reservation online. Was picked up on t...</td>\n",
       "      <td>1</td>\n",
       "      <td>made reservation online pick time driver court...</td>\n",
       "    </tr>\n",
       "    <tr>\n",
       "      <th>10</th>\n",
       "      <td>Great cars and drivers  can even get a minivan...</td>\n",
       "      <td>1</td>\n",
       "      <td>great car driver even minivan extra whole fami...</td>\n",
       "    </tr>\n",
       "    <tr>\n",
       "      <th>11</th>\n",
       "      <td>I've used these guys 3 times now and they make...</td>\n",
       "      <td>1</td>\n",
       "      <td>used these guy time they make your trip airpor...</td>\n",
       "    </tr>\n",
       "    <tr>\n",
       "      <th>12</th>\n",
       "      <td>Ordered a car and van for a 3:30am pick up and...</td>\n",
       "      <td>0</td>\n",
       "      <td>ordered pick only come call inquired about ope...</td>\n",
       "    </tr>\n",
       "    <tr>\n",
       "      <th>13</th>\n",
       "      <td>Great experience from Pearson Int'l Terminal 3...</td>\n",
       "      <td>1</td>\n",
       "      <td>great experience from pearson terminal front d...</td>\n",
       "    </tr>\n",
       "    <tr>\n",
       "      <th>14</th>\n",
       "      <td>Reserved a minivan with carseat for pick up at...</td>\n",
       "      <td>0</td>\n",
       "      <td>reserved minivan with carseat pick billy bisho...</td>\n",
       "    </tr>\n",
       "    <tr>\n",
       "      <th>15</th>\n",
       "      <td>Very good experience. Driver arrived 10 mins e...</td>\n",
       "      <td>1</td>\n",
       "      <td>very good experience driver arrive min early l...</td>\n",
       "    </tr>\n",
       "    <tr>\n",
       "      <th>16</th>\n",
       "      <td>Brutal driver  a very unhappy person. Seemed l...</td>\n",
       "      <td>1</td>\n",
       "      <td>brutal driver very unhappy person seem like ne...</td>\n",
       "    </tr>\n",
       "    <tr>\n",
       "      <th>17</th>\n",
       "      <td>Took a minivan with bulky cargo from the airpo...</td>\n",
       "      <td>1</td>\n",
       "      <td>take minivan with bulky cargo from airport loo...</td>\n",
       "    </tr>\n",
       "    <tr>\n",
       "      <th>18</th>\n",
       "      <td>I've tried using this service multiple times f...</td>\n",
       "      <td>0</td>\n",
       "      <td>tried use this service multiple time from pear...</td>\n",
       "    </tr>\n",
       "    <tr>\n",
       "      <th>19</th>\n",
       "      <td>This is to follow up on my original posting. A...</td>\n",
       "      <td>1</td>\n",
       "      <td>this follow original post about week receive c...</td>\n",
       "    </tr>\n",
       "    <tr>\n",
       "      <th>20</th>\n",
       "      <td>I have used them twice and have not had a bad ...</td>\n",
       "      <td>1</td>\n",
       "      <td>have used them twice have experience they come...</td>\n",
       "    </tr>\n",
       "    <tr>\n",
       "      <th>21</th>\n",
       "      <td>We travel nationally and internationally at le...</td>\n",
       "      <td>0</td>\n",
       "      <td>travel nationally internationally least time y...</td>\n",
       "    </tr>\n",
       "    <tr>\n",
       "      <th>22</th>\n",
       "      <td>It is the worst airport limo service. I have h...</td>\n",
       "      <td>0</td>\n",
       "      <td>worst airport limo service have great experien...</td>\n",
       "    </tr>\n",
       "    <tr>\n",
       "      <th>23</th>\n",
       "      <td>My experience with these guys have been pretty...</td>\n",
       "      <td>1</td>\n",
       "      <td>experience with these guy have been pretty pos...</td>\n",
       "    </tr>\n",
       "    <tr>\n",
       "      <th>24</th>\n",
       "      <td>Booked a pickup online for Saturday at 6:30am ...</td>\n",
       "      <td>1</td>\n",
       "      <td>booked pickup online saturday driver arrive mi...</td>\n",
       "    </tr>\n",
       "    <tr>\n",
       "      <th>25</th>\n",
       "      <td>I wouldn't recommend this service. Was verball...</td>\n",
       "      <td>0</td>\n",
       "      <td>wouldn recommend this service verbally abuse d...</td>\n",
       "    </tr>\n",
       "    <tr>\n",
       "      <th>26</th>\n",
       "      <td>Used these guys for a flight out on new years ...</td>\n",
       "      <td>1</td>\n",
       "      <td>used these guy flight year they be there minut...</td>\n",
       "    </tr>\n",
       "    <tr>\n",
       "      <th>27</th>\n",
       "      <td>Note: I just tried to rebook the same exact tr...</td>\n",
       "      <td>0</td>\n",
       "      <td>note just tried rebook same exact trip take pr...</td>\n",
       "    </tr>\n",
       "    <tr>\n",
       "      <th>28</th>\n",
       "      <td>The last time I prebooked  the car was 10 mins...</td>\n",
       "      <td>0</td>\n",
       "      <td>last time prebooked min late second time after...</td>\n",
       "    </tr>\n",
       "    <tr>\n",
       "      <th>29</th>\n",
       "      <td>Used these guys for pick up from the home to t...</td>\n",
       "      <td>1</td>\n",
       "      <td>used these guy pick from home airport their pr...</td>\n",
       "    </tr>\n",
       "    <tr>\n",
       "      <th>...</th>\n",
       "      <td>...</td>\n",
       "      <td>...</td>\n",
       "      <td>...</td>\n",
       "    </tr>\n",
       "    <tr>\n",
       "      <th>2840</th>\n",
       "      <td>Wednesday night $4 Martini's...oh boy! Enough ...</td>\n",
       "      <td>0</td>\n",
       "      <td>wednesday night martini enough say will just h...</td>\n",
       "    </tr>\n",
       "    <tr>\n",
       "      <th>2841</th>\n",
       "      <td>This is hands-down the strangest restaurant I'...</td>\n",
       "      <td>0</td>\n",
       "      <td>this hand down strangest restaurant been most ...</td>\n",
       "    </tr>\n",
       "    <tr>\n",
       "      <th>2842</th>\n",
       "      <td>I would recommend saving your money. I've neve...</td>\n",
       "      <td>0</td>\n",
       "      <td>would recommend save your money never written ...</td>\n",
       "    </tr>\n",
       "    <tr>\n",
       "      <th>2843</th>\n",
       "      <td>Situated across from TIFF Lightbox is this ``u...</td>\n",
       "      <td>0</td>\n",
       "      <td>situated across from tiff lightbox this ultima...</td>\n",
       "    </tr>\n",
       "    <tr>\n",
       "      <th>2844</th>\n",
       "      <td>Despite the semi-kitschy decor  this little Ki...</td>\n",
       "      <td>1</td>\n",
       "      <td>despite semi kitschy decor this little king ca...</td>\n",
       "    </tr>\n",
       "    <tr>\n",
       "      <th>2845</th>\n",
       "      <td>Ate breakfast here - reasonable food at reason...</td>\n",
       "      <td>0</td>\n",
       "      <td>breakfast here reasonable food reasonable pric...</td>\n",
       "    </tr>\n",
       "    <tr>\n",
       "      <th>2846</th>\n",
       "      <td>I had heard some mixed reviews about Ultimate ...</td>\n",
       "      <td>0</td>\n",
       "      <td>heard some mixed review about ultimate cafe be...</td>\n",
       "    </tr>\n",
       "    <tr>\n",
       "      <th>2847</th>\n",
       "      <td>As one walks down King Street between John Str...</td>\n",
       "      <td>0</td>\n",
       "      <td>walk down king street between john street pete...</td>\n",
       "    </tr>\n",
       "    <tr>\n",
       "      <th>2848</th>\n",
       "      <td>Tried their 9.99 deal for a large and it was t...</td>\n",
       "      <td>0</td>\n",
       "      <td>tried their deal large most disgusting thing e...</td>\n",
       "    </tr>\n",
       "    <tr>\n",
       "      <th>2849</th>\n",
       "      <td>my daughter opted for a slice of plain pizza. ...</td>\n",
       "      <td>0</td>\n",
       "      <td>daughter opt slice plain pizza felt plate go b...</td>\n",
       "    </tr>\n",
       "    <tr>\n",
       "      <th>2850</th>\n",
       "      <td>Pizza might be good if it was hot. I have trie...</td>\n",
       "      <td>0</td>\n",
       "      <td>pizza might good have tried this place numerou...</td>\n",
       "    </tr>\n",
       "    <tr>\n",
       "      <th>2851</th>\n",
       "      <td>My son and I decided to go here after the Anth...</td>\n",
       "      <td>0</td>\n",
       "      <td>decided here after anthem christmas tree light...</td>\n",
       "    </tr>\n",
       "    <tr>\n",
       "      <th>2852</th>\n",
       "      <td>Welcome to the only restaurant in the state of...</td>\n",
       "      <td>0</td>\n",
       "      <td>welcome only restaurant state that doesn allow...</td>\n",
       "    </tr>\n",
       "    <tr>\n",
       "      <th>2853</th>\n",
       "      <td>Wow I had such a terrible experience here. I t...</td>\n",
       "      <td>0</td>\n",
       "      <td>such terrible experience here take year parent...</td>\n",
       "    </tr>\n",
       "    <tr>\n",
       "      <th>2854</th>\n",
       "      <td>Excellent food  excellent atmosphere. Very goo...</td>\n",
       "      <td>1</td>\n",
       "      <td>excellent food excellent atmosphere very good ...</td>\n",
       "    </tr>\n",
       "    <tr>\n",
       "      <th>2855</th>\n",
       "      <td>I've gone to Villa Risi many times to celebrat...</td>\n",
       "      <td>1</td>\n",
       "      <td>gone villa risi many time celebrate special oc...</td>\n",
       "    </tr>\n",
       "    <tr>\n",
       "      <th>2856</th>\n",
       "      <td>I had a recently had a private function at Vil...</td>\n",
       "      <td>1</td>\n",
       "      <td>recently private function villa risi speak own...</td>\n",
       "    </tr>\n",
       "    <tr>\n",
       "      <th>2857</th>\n",
       "      <td>25 years worth of excellent meals here. If it ...</td>\n",
       "      <td>1</td>\n",
       "      <td>year worth excellent meal here closer toronto ...</td>\n",
       "    </tr>\n",
       "    <tr>\n",
       "      <th>2858</th>\n",
       "      <td>Birthday dinner with my husband. This is my 4t...</td>\n",
       "      <td>1</td>\n",
       "      <td>birthday dinner with husband this time here ha...</td>\n",
       "    </tr>\n",
       "    <tr>\n",
       "      <th>2859</th>\n",
       "      <td>I was given a Vivo gift certificate for my bir...</td>\n",
       "      <td>0</td>\n",
       "      <td>given vivo gift certificate birthday go servic...</td>\n",
       "    </tr>\n",
       "    <tr>\n",
       "      <th>2860</th>\n",
       "      <td>This is some of the best  if not THE best past...</td>\n",
       "      <td>1</td>\n",
       "      <td>this some best best pasta meatball have ever e...</td>\n",
       "    </tr>\n",
       "    <tr>\n",
       "      <th>2861</th>\n",
       "      <td>Great cozy place  we had a enjoyable dinner st...</td>\n",
       "      <td>1</td>\n",
       "      <td>great cozy place enjoyable dinner start with s...</td>\n",
       "    </tr>\n",
       "    <tr>\n",
       "      <th>2862</th>\n",
       "      <td>The food is the only reason I gave them 2 star...</td>\n",
       "      <td>0</td>\n",
       "      <td>food only reason give them star go wednesday h...</td>\n",
       "    </tr>\n",
       "    <tr>\n",
       "      <th>2863</th>\n",
       "      <td>Fraud on top of pathetic food/customer service...</td>\n",
       "      <td>0</td>\n",
       "      <td>fraud pathetic food customer service read bewa...</td>\n",
       "    </tr>\n",
       "    <tr>\n",
       "      <th>2864</th>\n",
       "      <td>Got to love when one of the owners is the chef...</td>\n",
       "      <td>1</td>\n",
       "      <td>love when owner chef business meeting there ro...</td>\n",
       "    </tr>\n",
       "    <tr>\n",
       "      <th>2865</th>\n",
       "      <td>Took my BFF to Vivo for her birthday. I had ne...</td>\n",
       "      <td>0</td>\n",
       "      <td>take vivo birthday never been there before act...</td>\n",
       "    </tr>\n",
       "    <tr>\n",
       "      <th>2866</th>\n",
       "      <td>We were invited out to dinner with our neighbo...</td>\n",
       "      <td>0</td>\n",
       "      <td>be invited dinner with neighbor happened have ...</td>\n",
       "    </tr>\n",
       "    <tr>\n",
       "      <th>2867</th>\n",
       "      <td>Very Very good!! food has been exceptional all...</td>\n",
       "      <td>1</td>\n",
       "      <td>very very good food been exceptional time been...</td>\n",
       "    </tr>\n",
       "    <tr>\n",
       "      <th>2868</th>\n",
       "      <td>If I focused entirely on the food  5 stars. Th...</td>\n",
       "      <td>0</td>\n",
       "      <td>focused entirely food star then atmosphere cur...</td>\n",
       "    </tr>\n",
       "    <tr>\n",
       "      <th>2869</th>\n",
       "      <td>Myself and two friends went to Vivo for the fi...</td>\n",
       "      <td>1</td>\n",
       "      <td>myself friends go vivo first time friday night...</td>\n",
       "    </tr>\n",
       "  </tbody>\n",
       "</table>\n",
       "<p>2870 rows × 3 columns</p>\n",
       "</div>"
      ],
      "text/plain": [
       "                                             ReviewText  ClassLabel  \\\n",
       "0     I have used this service before and was satisf...           0   \n",
       "1     First time I tried using them the driver was n...           0   \n",
       "2     Driver picked me up on time at 6AM and even kn...           1   \n",
       "3     First time using this taxi and limo company as...           1   \n",
       "4     Great experience. Driver was early and was ver...           1   \n",
       "5     Ive used Aeroport a few times now and i highly...           1   \n",
       "6     Got of the plane walked out of the airport the...           1   \n",
       "7     Can't fault the service. Arrives on time every...           1   \n",
       "8     Limousine was on time. Driver was very helpful...           1   \n",
       "9     Made my reservation online. Was picked up on t...           1   \n",
       "10    Great cars and drivers  can even get a minivan...           1   \n",
       "11    I've used these guys 3 times now and they make...           1   \n",
       "12    Ordered a car and van for a 3:30am pick up and...           0   \n",
       "13    Great experience from Pearson Int'l Terminal 3...           1   \n",
       "14    Reserved a minivan with carseat for pick up at...           0   \n",
       "15    Very good experience. Driver arrived 10 mins e...           1   \n",
       "16    Brutal driver  a very unhappy person. Seemed l...           1   \n",
       "17    Took a minivan with bulky cargo from the airpo...           1   \n",
       "18    I've tried using this service multiple times f...           0   \n",
       "19    This is to follow up on my original posting. A...           1   \n",
       "20    I have used them twice and have not had a bad ...           1   \n",
       "21    We travel nationally and internationally at le...           0   \n",
       "22    It is the worst airport limo service. I have h...           0   \n",
       "23    My experience with these guys have been pretty...           1   \n",
       "24    Booked a pickup online for Saturday at 6:30am ...           1   \n",
       "25    I wouldn't recommend this service. Was verball...           0   \n",
       "26    Used these guys for a flight out on new years ...           1   \n",
       "27    Note: I just tried to rebook the same exact tr...           0   \n",
       "28    The last time I prebooked  the car was 10 mins...           0   \n",
       "29    Used these guys for pick up from the home to t...           1   \n",
       "...                                                 ...         ...   \n",
       "2840  Wednesday night $4 Martini's...oh boy! Enough ...           0   \n",
       "2841  This is hands-down the strangest restaurant I'...           0   \n",
       "2842  I would recommend saving your money. I've neve...           0   \n",
       "2843  Situated across from TIFF Lightbox is this ``u...           0   \n",
       "2844  Despite the semi-kitschy decor  this little Ki...           1   \n",
       "2845  Ate breakfast here - reasonable food at reason...           0   \n",
       "2846  I had heard some mixed reviews about Ultimate ...           0   \n",
       "2847  As one walks down King Street between John Str...           0   \n",
       "2848  Tried their 9.99 deal for a large and it was t...           0   \n",
       "2849  my daughter opted for a slice of plain pizza. ...           0   \n",
       "2850  Pizza might be good if it was hot. I have trie...           0   \n",
       "2851  My son and I decided to go here after the Anth...           0   \n",
       "2852  Welcome to the only restaurant in the state of...           0   \n",
       "2853  Wow I had such a terrible experience here. I t...           0   \n",
       "2854  Excellent food  excellent atmosphere. Very goo...           1   \n",
       "2855  I've gone to Villa Risi many times to celebrat...           1   \n",
       "2856  I had a recently had a private function at Vil...           1   \n",
       "2857  25 years worth of excellent meals here. If it ...           1   \n",
       "2858  Birthday dinner with my husband. This is my 4t...           1   \n",
       "2859  I was given a Vivo gift certificate for my bir...           0   \n",
       "2860  This is some of the best  if not THE best past...           1   \n",
       "2861  Great cozy place  we had a enjoyable dinner st...           1   \n",
       "2862  The food is the only reason I gave them 2 star...           0   \n",
       "2863  Fraud on top of pathetic food/customer service...           0   \n",
       "2864  Got to love when one of the owners is the chef...           1   \n",
       "2865  Took my BFF to Vivo for her birthday. I had ne...           0   \n",
       "2866  We were invited out to dinner with our neighbo...           0   \n",
       "2867  Very Very good!! food has been exceptional all...           1   \n",
       "2868  If I focused entirely on the food  5 stars. Th...           0   \n",
       "2869  Myself and two friends went to Vivo for the fi...           1   \n",
       "\n",
       "                                             Clean text  \n",
       "0     have used this service before satisfy until ju...  \n",
       "1     first time tried use them driver nowhere found...  \n",
       "2     driver pick time even knock door instead ring ...  \n",
       "3     first time use this taxi limo company have use...  \n",
       "4     great experience driver early very friendly th...  \n",
       "5     used aeroport time highly recommend always tim...  \n",
       "6     plane walk airport wait walk brought could lug...  \n",
       "7     fault service arrives time every time have use...  \n",
       "8     limousine time driver very helpful courteous v...  \n",
       "9     made reservation online pick time driver court...  \n",
       "10    great car driver even minivan extra whole fami...  \n",
       "11    used these guy time they make your trip airpor...  \n",
       "12    ordered pick only come call inquired about ope...  \n",
       "13    great experience from pearson terminal front d...  \n",
       "14    reserved minivan with carseat pick billy bisho...  \n",
       "15    very good experience driver arrive min early l...  \n",
       "16    brutal driver very unhappy person seem like ne...  \n",
       "17    take minivan with bulky cargo from airport loo...  \n",
       "18    tried use this service multiple time from pear...  \n",
       "19    this follow original post about week receive c...  \n",
       "20    have used them twice have experience they come...  \n",
       "21    travel nationally internationally least time y...  \n",
       "22    worst airport limo service have great experien...  \n",
       "23    experience with these guy have been pretty pos...  \n",
       "24    booked pickup online saturday driver arrive mi...  \n",
       "25    wouldn recommend this service verbally abuse d...  \n",
       "26    used these guy flight year they be there minut...  \n",
       "27    note just tried rebook same exact trip take pr...  \n",
       "28    last time prebooked min late second time after...  \n",
       "29    used these guy pick from home airport their pr...  \n",
       "...                                                 ...  \n",
       "2840  wednesday night martini enough say will just h...  \n",
       "2841  this hand down strangest restaurant been most ...  \n",
       "2842  would recommend save your money never written ...  \n",
       "2843  situated across from tiff lightbox this ultima...  \n",
       "2844  despite semi kitschy decor this little king ca...  \n",
       "2845  breakfast here reasonable food reasonable pric...  \n",
       "2846  heard some mixed review about ultimate cafe be...  \n",
       "2847  walk down king street between john street pete...  \n",
       "2848  tried their deal large most disgusting thing e...  \n",
       "2849  daughter opt slice plain pizza felt plate go b...  \n",
       "2850  pizza might good have tried this place numerou...  \n",
       "2851  decided here after anthem christmas tree light...  \n",
       "2852  welcome only restaurant state that doesn allow...  \n",
       "2853  such terrible experience here take year parent...  \n",
       "2854  excellent food excellent atmosphere very good ...  \n",
       "2855  gone villa risi many time celebrate special oc...  \n",
       "2856  recently private function villa risi speak own...  \n",
       "2857  year worth excellent meal here closer toronto ...  \n",
       "2858  birthday dinner with husband this time here ha...  \n",
       "2859  given vivo gift certificate birthday go servic...  \n",
       "2860  this some best best pasta meatball have ever e...  \n",
       "2861  great cozy place enjoyable dinner start with s...  \n",
       "2862  food only reason give them star go wednesday h...  \n",
       "2863  fraud pathetic food customer service read bewa...  \n",
       "2864  love when owner chef business meeting there ro...  \n",
       "2865  take vivo birthday never been there before act...  \n",
       "2866  be invited dinner with neighbor happened have ...  \n",
       "2867  very very good food been exceptional time been...  \n",
       "2868  focused entirely food star then atmosphere cur...  \n",
       "2869  myself friends go vivo first time friday night...  \n",
       "\n",
       "[2870 rows x 3 columns]"
      ]
     },
     "execution_count": 219,
     "metadata": {},
     "output_type": "execute_result"
    }
   ],
   "source": [
    "# Copying the processed review data into a column in the already existing dataframe named combine.  \n",
    "combine['Clean text'] = tokens\n",
    "\n",
    "# Converting the ClassLabels Positive and Negative to 0 or 1 \n",
    "combine['ClassLabel'] = combine['ClassLabel'].apply(lambda x: 1 if x=='Positive' else 0 ) \n",
    "\n",
    "#Printing combine to check whether the Column \"Clean text\" is added and the values for \"ClassLabel\" column is modified\n",
    "combine"
   ]
  },
  {
   "cell_type": "code",
   "execution_count": 221,
   "metadata": {},
   "outputs": [],
   "source": [
    "# When working on text data it is important to remove unwanted words by performing tokenizing and extract the features \n",
    "# that enable to make predictions. Thus to convert this textual data into vector of numeric value we use Bag of words Model.\n",
    "# The Model also help remove stop words.\n",
    "# Here, we are using of the scheme of Bag of words model named CountVectorizer to focus on the occurrence of each words.\n",
    "\n",
    "bag_of_words_vectorizer = CountVectorizer(max_df=0.90, min_df=2, max_features=1000, stop_words='english')\n",
    "bag_of_words = bag_of_words_vectorizer.fit_transform(combine['Clean text'])"
   ]
  },
  {
   "cell_type": "code",
   "execution_count": 222,
   "metadata": {},
   "outputs": [],
   "source": [
    "# As both the category data was combined together into one frame, the steps below are dividing the review data stored in \n",
    "# bags_of_words and Class labels back to its respective dataframe based on the length of the data (i.e no of rows) stored \n",
    "# into a variable above. \n",
    "category_A_data = bag_of_words[length_handt:,:]\n",
    "category_B_data = bag_of_words[:length_handt,:]\n",
    "\n",
    "classlabel=combine['ClassLabel']\n",
    "category_A_label=classlabel[length_handt:]\n",
    "category_B_label=classlabel[:length_handt]"
   ]
  },
  {
   "cell_type": "code",
   "execution_count": 223,
   "metadata": {},
   "outputs": [],
   "source": [
    "# splitting data into training and validation set\n",
    "xtrain_A, xtest_A, ytrain_A, ytest_A = train_test_split(category_A_data, category_A_label, random_state=42, test_size=0.3)\n",
    "\n",
    "xtrain_B, xtest_B, ytrain_B, ytest_B = train_test_split(category_B_data, category_B_label, random_state=42, test_size=0.3)"
   ]
  },
  {
   "cell_type": "markdown",
   "metadata": {},
   "source": [
    "### Logistic Regression: "
   ]
  },
  {
   "cell_type": "code",
   "execution_count": 224,
   "metadata": {},
   "outputs": [
    {
     "name": "stderr",
     "output_type": "stream",
     "text": [
      "C:\\ProgramData\\Anaconda3\\lib\\site-packages\\sklearn\\linear_model\\logistic.py:433: FutureWarning: Default solver will be changed to 'lbfgs' in 0.22. Specify a solver to silence this warning.\n",
      "  FutureWarning)\n"
     ]
    },
    {
     "data": {
      "text/plain": [
       "LogisticRegression(C=1.0, class_weight=None, dual=False, fit_intercept=True,\n",
       "          intercept_scaling=1, max_iter=100, multi_class='warn',\n",
       "          n_jobs=None, penalty='l2', random_state=None, solver='warn',\n",
       "          tol=0.0001, verbose=0, warm_start=False)"
      ]
     },
     "execution_count": 224,
     "metadata": {},
     "output_type": "execute_result"
    }
   ],
   "source": [
    "logreg = LogisticRegression()\n",
    "\n",
    "#training the model based on category A data i.e. Hotel and Travel\n",
    "logreg.fit(xtrain_A, ytrain_A) "
   ]
  },
  {
   "cell_type": "code",
   "execution_count": 225,
   "metadata": {},
   "outputs": [
    {
     "name": "stdout",
     "output_type": "stream",
     "text": [
      "Accuracy train(A), test(A):  0.7893518518518519\n"
     ]
    }
   ],
   "source": [
    "# Testing the trained model on Category A data test data.\n",
    "test_pred = logreg.predict_proba(xtest_A)\n",
    "test_pred_int = test_pred[:,1] >= 0.3\n",
    "test_pred_int = test_pred_int.astype(np.int)\n",
    "\n",
    "# Calculating the accuracy\n",
    "LR_trainAtestA = accuracy_score(ytest_A, test_pred_int)\n",
    "print(\"Accuracy train(A), test(A): \",trainAtestA)"
   ]
  },
  {
   "cell_type": "code",
   "execution_count": 226,
   "metadata": {},
   "outputs": [
    {
     "name": "stdout",
     "output_type": "stream",
     "text": [
      "Accuracy train(A), test(B):  0.7808857808857809\n"
     ]
    }
   ],
   "source": [
    "# Testing the trained model on Category B data test data.\n",
    "test_pred = logreg.predict_proba(xtest_B)\n",
    "test_pred_int = test_pred[:,1] >= 0.3\n",
    "test_pred_int = test_pred_int.astype(np.int)\n",
    "\n",
    "# Calculating the accuracy\n",
    "LR_trainAtestB = accuracy_score(ytest_B, test_pred_int)\n",
    "print(\"Accuracy train(A), test(B): \",LR_trainAtestB)"
   ]
  },
  {
   "cell_type": "code",
   "execution_count": 227,
   "metadata": {},
   "outputs": [
    {
     "data": {
      "text/plain": [
       "LogisticRegression(C=1.0, class_weight=None, dual=False, fit_intercept=True,\n",
       "          intercept_scaling=1, max_iter=100, multi_class='warn',\n",
       "          n_jobs=None, penalty='l2', random_state=None, solver='warn',\n",
       "          tol=0.0001, verbose=0, warm_start=False)"
      ]
     },
     "execution_count": 227,
     "metadata": {},
     "output_type": "execute_result"
    }
   ],
   "source": [
    "#training the model on Category B data i.e. Restaurant Data\n",
    "logreg.fit(xtrain_B, ytrain_B) "
   ]
  },
  {
   "cell_type": "code",
   "execution_count": 228,
   "metadata": {},
   "outputs": [
    {
     "name": "stdout",
     "output_type": "stream",
     "text": [
      "Accuracy train(B), test(B):  0.8624708624708625\n"
     ]
    }
   ],
   "source": [
    "# Testing the trained model on Category B data test data.\n",
    "test_pred = logreg.predict_proba(xtest_B)\n",
    "test_pred_int = test_pred[:,1] >= 0.3\n",
    "test_pred_int = test_pred_int.astype(np.int)\n",
    "\n",
    "# Calculating the accuracy\n",
    "LR_trainBtestB = accuracy_score(ytest_B, test_pred_int)\n",
    "print(\"Accuracy train(B), test(B): \", LR_trainBtestB)"
   ]
  },
  {
   "cell_type": "code",
   "execution_count": 229,
   "metadata": {},
   "outputs": [
    {
     "name": "stdout",
     "output_type": "stream",
     "text": [
      "Accuracy train(B), test(A):  0.7893518518518519\n"
     ]
    }
   ],
   "source": [
    "# Testing the trained model on Category A test data.\n",
    "test_pred = logreg.predict_proba(xtest_A)\n",
    "test_pred_int = test_pred[:,1] >= 0.3\n",
    "test_pred_int = test_pred_int.astype(np.int)\n",
    "\n",
    "# Calculating the accuracy\n",
    "LR_trainBtestA = accuracy_score(ytest_A, test_pred_int)\n",
    "print(\"Accuracy train(B), test(A): \", LR_trainBtestA)"
   ]
  },
  {
   "cell_type": "code",
   "execution_count": 230,
   "metadata": {},
   "outputs": [
    {
     "data": {
      "text/html": [
       "<div>\n",
       "<style scoped>\n",
       "    .dataframe tbody tr th:only-of-type {\n",
       "        vertical-align: middle;\n",
       "    }\n",
       "\n",
       "    .dataframe tbody tr th {\n",
       "        vertical-align: top;\n",
       "    }\n",
       "\n",
       "    .dataframe thead th {\n",
       "        text-align: right;\n",
       "    }\n",
       "</style>\n",
       "<table border=\"1\" class=\"dataframe\">\n",
       "  <thead>\n",
       "    <tr style=\"text-align: right;\">\n",
       "      <th></th>\n",
       "      <th>headers</th>\n",
       "      <th>data</th>\n",
       "    </tr>\n",
       "  </thead>\n",
       "  <tbody>\n",
       "    <tr>\n",
       "      <th>0</th>\n",
       "      <td>trainAtestA</td>\n",
       "      <td>0.798611</td>\n",
       "    </tr>\n",
       "    <tr>\n",
       "      <th>1</th>\n",
       "      <td>trainAtestB</td>\n",
       "      <td>0.780886</td>\n",
       "    </tr>\n",
       "    <tr>\n",
       "      <th>2</th>\n",
       "      <td>trainBtestB</td>\n",
       "      <td>0.862471</td>\n",
       "    </tr>\n",
       "    <tr>\n",
       "      <th>3</th>\n",
       "      <td>trainBtestA</td>\n",
       "      <td>0.789352</td>\n",
       "    </tr>\n",
       "  </tbody>\n",
       "</table>\n",
       "</div>"
      ],
      "text/plain": [
       "       headers      data\n",
       "0  trainAtestA  0.798611\n",
       "1  trainAtestB  0.780886\n",
       "2  trainBtestB  0.862471\n",
       "3  trainBtestA  0.789352"
      ]
     },
     "execution_count": 230,
     "metadata": {},
     "output_type": "execute_result"
    }
   ],
   "source": [
    "# Creating dataframe for model classified using Logistic Regression Classifier\n",
    "Data = {\"headers\": [\"trainAtestA\", \"trainAtestB\", \"trainBtestB\", \"trainBtestA\"],\n",
    "        \"data\": [LR_trainAtestA, LR_trainAtestB, LR_trainBtestB, LR_trainBtestA]\n",
    "       }\n",
    "\n",
    "df = pd.DataFrame(Data)\n",
    "#df.set_index(\"headers\")\n",
    "df"
   ]
  },
  {
   "cell_type": "markdown",
   "metadata": {},
   "source": [
    "Barchart for visualizing model accuracy when generated prediction using testdata for each category."
   ]
  },
  {
   "cell_type": "code",
   "execution_count": 231,
   "metadata": {},
   "outputs": [
    {
     "data": {
      "text/plain": [
       "[Text(0, 0, 'trainAtestA'),\n",
       " Text(0, 0, 'trainAtestB'),\n",
       " Text(0, 0, 'trainBtestB'),\n",
       " Text(0, 0, 'trainBtestA')]"
      ]
     },
     "execution_count": 231,
     "metadata": {},
     "output_type": "execute_result"
    },
    {
     "data": {
      "image/png": "[encoded data removed]",
      "text/plain": [
       "<Figure size 576x288 with 1 Axes>"
      ]
     },
     "metadata": {
      "needs_background": "light"
     },
     "output_type": "display_data"
    }
   ],
   "source": [
    "p = df.plot.bar(figsize=(8, 4))\n",
    "p.set_xlabel(\"Prediction Type\")\n",
    "p.set_ylabel(\"Accuracy\")\n",
    "p.set_xticklabels(df[\"headers\"], rotation=30)"
   ]
  },
  {
   "cell_type": "markdown",
   "metadata": {},
   "source": [
    "### Support Vector Machine"
   ]
  },
  {
   "cell_type": "code",
   "execution_count": 232,
   "metadata": {},
   "outputs": [
    {
     "data": {
      "text/plain": [
       "SVC(C=1.0, cache_size=200, class_weight=None, coef0=0.0,\n",
       "  decision_function_shape='ovr', degree=3, gamma='auto_deprecated',\n",
       "  kernel='linear', max_iter=-1, probability=False, random_state=None,\n",
       "  shrinking=True, tol=0.001, verbose=False)"
      ]
     },
     "execution_count": 232,
     "metadata": {},
     "output_type": "execute_result"
    }
   ],
   "source": [
    "clf=svm.SVC(kernel='linear')\n",
    "\n",
    "#training the model on Category A data i.e. Hotel and Travel Data\n",
    "clf.fit(xtrain_A,ytrain_A)"
   ]
  },
  {
   "cell_type": "code",
   "execution_count": 233,
   "metadata": {},
   "outputs": [
    {
     "name": "stdout",
     "output_type": "stream",
     "text": [
      "Accuracy train(A), test(A):  0.8101851851851852\n"
     ]
    }
   ],
   "source": [
    "# Testing the trained model on Category A test data.\n",
    "pred=clf.predict(xtest_A)\n",
    "\n",
    "# Calculating Accuracy\n",
    "SVM_trainAtestA = accuracy_score(ytest_A, pred)\n",
    "print(\"Accuracy train(A), test(A): \", SVM_trainAtestA)"
   ]
  },
  {
   "cell_type": "code",
   "execution_count": 234,
   "metadata": {},
   "outputs": [
    {
     "name": "stdout",
     "output_type": "stream",
     "text": [
      "Accuracy train(A), test(B):  0.745920745920746\n"
     ]
    }
   ],
   "source": [
    "# Testing the trained model on Category B test data.\n",
    "pred=clf.predict(xtest_B)\n",
    "\n",
    "#Calculating Accuracy\n",
    "SVM_trainAtestB = accuracy_score(ytest_B, pred)\n",
    "print(\"Accuracy train(A), test(B): \", SVM_trainAtestB)"
   ]
  },
  {
   "cell_type": "code",
   "execution_count": 235,
   "metadata": {},
   "outputs": [
    {
     "data": {
      "text/plain": [
       "SVC(C=1.0, cache_size=200, class_weight=None, coef0=0.0,\n",
       "  decision_function_shape='ovr', degree=3, gamma='auto_deprecated',\n",
       "  kernel='linear', max_iter=-1, probability=False, random_state=None,\n",
       "  shrinking=True, tol=0.001, verbose=False)"
      ]
     },
     "execution_count": 235,
     "metadata": {},
     "output_type": "execute_result"
    }
   ],
   "source": [
    "#training the model on Category B data i.e. Restaurants Data\n",
    "clf.fit(xtrain_B,ytrain_B)"
   ]
  },
  {
   "cell_type": "code",
   "execution_count": 236,
   "metadata": {},
   "outputs": [
    {
     "name": "stdout",
     "output_type": "stream",
     "text": [
      "Accuracy train(B), test(B):  0.8344988344988346\n"
     ]
    }
   ],
   "source": [
    "# Testing the trained model on Category B test data.\n",
    "pred=clf.predict(xtest_B)\n",
    "\n",
    "#Claculating Accuracy\n",
    "SVM_trainBtestB = accuracy_score(ytest_B, pred)\n",
    "print(\"Accuracy train(B), test(B): \", SVM_trainBtestB)"
   ]
  },
  {
   "cell_type": "code",
   "execution_count": 237,
   "metadata": {},
   "outputs": [
    {
     "name": "stdout",
     "output_type": "stream",
     "text": [
      "Accuracy train(B), test(A):  0.7546296296296297\n"
     ]
    }
   ],
   "source": [
    "# Testing the trained model on Category A test data.\n",
    "pred=clf.predict(xtest_A)\n",
    "\n",
    "#Claculating Accuracy\n",
    "SVM_trainBtestA = accuracy_score(ytest_A, pred)\n",
    "print(\"Accuracy train(B), test(A): \", SVM_trainBtestA)"
   ]
  },
  {
   "cell_type": "code",
   "execution_count": 238,
   "metadata": {},
   "outputs": [
    {
     "data": {
      "text/html": [
       "<div>\n",
       "<style scoped>\n",
       "    .dataframe tbody tr th:only-of-type {\n",
       "        vertical-align: middle;\n",
       "    }\n",
       "\n",
       "    .dataframe tbody tr th {\n",
       "        vertical-align: top;\n",
       "    }\n",
       "\n",
       "    .dataframe thead th {\n",
       "        text-align: right;\n",
       "    }\n",
       "</style>\n",
       "<table border=\"1\" class=\"dataframe\">\n",
       "  <thead>\n",
       "    <tr style=\"text-align: right;\">\n",
       "      <th></th>\n",
       "      <th>headers</th>\n",
       "      <th>data</th>\n",
       "    </tr>\n",
       "  </thead>\n",
       "  <tbody>\n",
       "    <tr>\n",
       "      <th>0</th>\n",
       "      <td>trainAtestA</td>\n",
       "      <td>0.810185</td>\n",
       "    </tr>\n",
       "    <tr>\n",
       "      <th>1</th>\n",
       "      <td>trainAtestB</td>\n",
       "      <td>0.745921</td>\n",
       "    </tr>\n",
       "    <tr>\n",
       "      <th>2</th>\n",
       "      <td>trainBtestB</td>\n",
       "      <td>0.834499</td>\n",
       "    </tr>\n",
       "    <tr>\n",
       "      <th>3</th>\n",
       "      <td>trainBtestA</td>\n",
       "      <td>0.754630</td>\n",
       "    </tr>\n",
       "  </tbody>\n",
       "</table>\n",
       "</div>"
      ],
      "text/plain": [
       "       headers      data\n",
       "0  trainAtestA  0.810185\n",
       "1  trainAtestB  0.745921\n",
       "2  trainBtestB  0.834499\n",
       "3  trainBtestA  0.754630"
      ]
     },
     "execution_count": 238,
     "metadata": {},
     "output_type": "execute_result"
    }
   ],
   "source": [
    "# Creating dataframe for model classified using Support Vector Machine Classifier\n",
    "Data = {\"headers\": [\"trainAtestA\", \"trainAtestB\", \"trainBtestB\", \"trainBtestA\"],\n",
    "        \"data\": [SVM_trainAtestA, SVM_trainAtestB, SVM_trainBtestB, SVM_trainBtestA]\n",
    "       }\n",
    "\n",
    "df = pd.DataFrame(Data)\n",
    "df"
   ]
  },
  {
   "cell_type": "markdown",
   "metadata": {},
   "source": [
    "Bar chart for visualizing the accuracy of predictions done of different test data using the trained model"
   ]
  },
  {
   "cell_type": "code",
   "execution_count": 239,
   "metadata": {},
   "outputs": [
    {
     "data": {
      "text/plain": [
       "[Text(0, 0, 'trainAtestA'),\n",
       " Text(0, 0, 'trainAtestB'),\n",
       " Text(0, 0, 'trainBtestB'),\n",
       " Text(0, 0, 'trainBtestA')]"
      ]
     },
     "execution_count": 239,
     "metadata": {},
     "output_type": "execute_result"
    },
    {
     "data": {
      "image/png": "[encoded data removed]",
      "text/plain": [
       "<Figure size 576x288 with 1 Axes>"
      ]
     },
     "metadata": {
      "needs_background": "light"
     },
     "output_type": "display_data"
    }
   ],
   "source": [
    "p = df.plot.bar(figsize=(8, 4))\n",
    "p.set_xlabel(\"Prediction Type\")\n",
    "p.set_ylabel(\"Accuracy\")\n",
    "p.set_xticklabels(df[\"headers\"], rotation=30)"
   ]
  },
  {
   "cell_type": "markdown",
   "metadata": {},
   "source": [
    "### Random Forest"
   ]
  },
  {
   "cell_type": "code",
   "execution_count": 240,
   "metadata": {},
   "outputs": [
    {
     "data": {
      "text/plain": [
       "RandomForestClassifier(bootstrap=True, class_weight=None, criterion='gini',\n",
       "            max_depth=20, max_features='auto', max_leaf_nodes=None,\n",
       "            min_impurity_decrease=0.0, min_impurity_split=None,\n",
       "            min_samples_leaf=1, min_samples_split=2,\n",
       "            min_weight_fraction_leaf=0.0, n_estimators=500, n_jobs=None,\n",
       "            oob_score=False, random_state=50, verbose=0, warm_start=False)"
      ]
     },
     "execution_count": 240,
     "metadata": {},
     "output_type": "execute_result"
    }
   ],
   "source": [
    "model=RandomForestClassifier(n_estimators=500,max_depth=20,random_state=50)\n",
    "\n",
    "##training the model on Category A data i.e. Hotel and Travel Data\n",
    "model.fit(xtrain_A,ytrain_A)"
   ]
  },
  {
   "cell_type": "code",
   "execution_count": 241,
   "metadata": {},
   "outputs": [
    {
     "name": "stdout",
     "output_type": "stream",
     "text": [
      "Accuracy train(A), test(A):  0.7824074074074074\n"
     ]
    }
   ],
   "source": [
    "# Testing the trained model on Category A test data.\n",
    "pred=model.predict(xtest_A)\n",
    "\n",
    "# Caluclating Accuracy\n",
    "RF_trainAtestA = accuracy_score(ytest_A, pred)\n",
    "print(\"Accuracy train(A), test(A): \",RF_trainAtestA)"
   ]
  },
  {
   "cell_type": "code",
   "execution_count": 242,
   "metadata": {},
   "outputs": [
    {
     "name": "stdout",
     "output_type": "stream",
     "text": [
      "Accuracy train(A), test(B):  0.7645687645687645\n"
     ]
    }
   ],
   "source": [
    "# Testing the trained model on Category B test data.\n",
    "pred=model.predict(xtest_B)\n",
    "\n",
    "# Calculating Accuracy\n",
    "RF_trainAtestB = accuracy_score(ytest_B, pred)\n",
    "print(\"Accuracy train(A), test(B): \",RF_trainAtestB)"
   ]
  },
  {
   "cell_type": "code",
   "execution_count": 243,
   "metadata": {},
   "outputs": [
    {
     "data": {
      "text/plain": [
       "RandomForestClassifier(bootstrap=True, class_weight=None, criterion='gini',\n",
       "            max_depth=20, max_features='auto', max_leaf_nodes=None,\n",
       "            min_impurity_decrease=0.0, min_impurity_split=None,\n",
       "            min_samples_leaf=1, min_samples_split=2,\n",
       "            min_weight_fraction_leaf=0.0, n_estimators=500, n_jobs=None,\n",
       "            oob_score=False, random_state=50, verbose=0, warm_start=False)"
      ]
     },
     "execution_count": 243,
     "metadata": {},
     "output_type": "execute_result"
    }
   ],
   "source": [
    "# training the model on Category B data i.e. Restaurants Data\n",
    "model.fit(xtrain_B,ytrain_B)"
   ]
  },
  {
   "cell_type": "code",
   "execution_count": 244,
   "metadata": {},
   "outputs": [
    {
     "name": "stdout",
     "output_type": "stream",
     "text": [
      "Accuracy train(B), test(B):  0.8344988344988346\n"
     ]
    }
   ],
   "source": [
    "# Testing the trained model on Category B test data. \n",
    "pred=model.predict(xtest_B)\n",
    "\n",
    "# Calculating Accuracy\n",
    "RF_trainBtestB = accuracy_score(ytest_B, pred)\n",
    "print(\"Accuracy train(B), test(B): \",RF_trainBtestB)"
   ]
  },
  {
   "cell_type": "code",
   "execution_count": 245,
   "metadata": {},
   "outputs": [
    {
     "name": "stdout",
     "output_type": "stream",
     "text": [
      "Accuracy train(B), test(A):  0.7685185185185185\n"
     ]
    }
   ],
   "source": [
    "# Testing the trained model on Category A test data.\n",
    "pred=model.predict(xtest_A)\n",
    "\n",
    "# Calculating Accuracy\n",
    "RF_trainBtestA = accuracy_score(ytest_A, pred)\n",
    "print(\"Accuracy train(B), test(A): \",RF_trainBtestA)"
   ]
  },
  {
   "cell_type": "code",
   "execution_count": 246,
   "metadata": {},
   "outputs": [
    {
     "data": {
      "text/html": [
       "<div>\n",
       "<style scoped>\n",
       "    .dataframe tbody tr th:only-of-type {\n",
       "        vertical-align: middle;\n",
       "    }\n",
       "\n",
       "    .dataframe tbody tr th {\n",
       "        vertical-align: top;\n",
       "    }\n",
       "\n",
       "    .dataframe thead th {\n",
       "        text-align: right;\n",
       "    }\n",
       "</style>\n",
       "<table border=\"1\" class=\"dataframe\">\n",
       "  <thead>\n",
       "    <tr style=\"text-align: right;\">\n",
       "      <th></th>\n",
       "      <th>headers</th>\n",
       "      <th>data</th>\n",
       "    </tr>\n",
       "  </thead>\n",
       "  <tbody>\n",
       "    <tr>\n",
       "      <th>0</th>\n",
       "      <td>trainAtestA</td>\n",
       "      <td>0.782407</td>\n",
       "    </tr>\n",
       "    <tr>\n",
       "      <th>1</th>\n",
       "      <td>trainAtestB</td>\n",
       "      <td>0.764569</td>\n",
       "    </tr>\n",
       "    <tr>\n",
       "      <th>2</th>\n",
       "      <td>trainBtestB</td>\n",
       "      <td>0.834499</td>\n",
       "    </tr>\n",
       "    <tr>\n",
       "      <th>3</th>\n",
       "      <td>trainBtestA</td>\n",
       "      <td>0.768519</td>\n",
       "    </tr>\n",
       "  </tbody>\n",
       "</table>\n",
       "</div>"
      ],
      "text/plain": [
       "       headers      data\n",
       "0  trainAtestA  0.782407\n",
       "1  trainAtestB  0.764569\n",
       "2  trainBtestB  0.834499\n",
       "3  trainBtestA  0.768519"
      ]
     },
     "execution_count": 246,
     "metadata": {},
     "output_type": "execute_result"
    }
   ],
   "source": [
    "# Creating dataframe for model classified using Random Forest Classifier\n",
    "Data = {\"headers\": [\"trainAtestA\", \"trainAtestB\", \"trainBtestB\", \"trainBtestA\"],\n",
    "        \"data\": [RF_trainAtestA, RF_trainAtestB, RF_trainBtestB, RF_trainBtestA]\n",
    "       }\n",
    "\n",
    "df = pd.DataFrame(Data)\n",
    "df"
   ]
  },
  {
   "cell_type": "markdown",
   "metadata": {},
   "source": [
    "Bar chart for visualizing the accuracy of predictions done of different test data using the trained model"
   ]
  },
  {
   "cell_type": "code",
   "execution_count": 247,
   "metadata": {},
   "outputs": [
    {
     "data": {
      "text/plain": [
       "[Text(0, 0, 'trainAtestA'),\n",
       " Text(0, 0, 'trainAtestB'),\n",
       " Text(0, 0, 'trainBtestB'),\n",
       " Text(0, 0, 'trainBtestA')]"
      ]
     },
     "execution_count": 247,
     "metadata": {},
     "output_type": "execute_result"
    },
    {
     "data": {
      "image/png": "[encoded data removed]",
      "text/plain": [
       "<Figure size 576x288 with 1 Axes>"
      ]
     },
     "metadata": {
      "needs_background": "light"
     },
     "output_type": "display_data"
    }
   ],
   "source": [
    "p = df.plot.bar(figsize=(8, 4))\n",
    "p.set_xlabel(\"Prediction Type\")\n",
    "p.set_ylabel(\"Accuracy\")\n",
    "p.set_xticklabels(df[\"headers\"], rotation=30)"
   ]
  },
  {
   "cell_type": "markdown",
   "metadata": {},
   "source": [
    "### kNN Classifier"
   ]
  },
  {
   "cell_type": "code",
   "execution_count": 248,
   "metadata": {},
   "outputs": [
    {
     "data": {
      "text/plain": [
       "KNeighborsClassifier(algorithm='auto', leaf_size=30, metric='minkowski',\n",
       "           metric_params=None, n_jobs=None, n_neighbors=6, p=2,\n",
       "           weights='uniform')"
      ]
     },
     "execution_count": 248,
     "metadata": {},
     "output_type": "execute_result"
    }
   ],
   "source": [
    "model = KNeighborsClassifier(n_neighbors=6)\n",
    "\n",
    "# training the model on Category B data i.e. Hotel and Travel Data\n",
    "model.fit(xtrain_A, ytrain_A)"
   ]
  },
  {
   "cell_type": "code",
   "execution_count": 249,
   "metadata": {},
   "outputs": [
    {
     "name": "stdout",
     "output_type": "stream",
     "text": [
      "Accuracy train(A), test(A):  0.7268518518518519\n"
     ]
    }
   ],
   "source": [
    "# Testing the trained model on Category A test data.\n",
    "pred= model.predict(xtest_A) \n",
    "\n",
    "# Calculating Accuracy\n",
    "kNN_trainAtestA = accuracy_score(ytest_A, pred)\n",
    "print(\"Accuracy train(A), test(A): \",kNN_trainAtestA)"
   ]
  },
  {
   "cell_type": "code",
   "execution_count": 250,
   "metadata": {},
   "outputs": [
    {
     "name": "stdout",
     "output_type": "stream",
     "text": [
      "Accuracy train(A), test(B):  0.703962703962704\n"
     ]
    }
   ],
   "source": [
    "# Testing the trained model on Category B test data.\n",
    "pred= model.predict(xtest_B)\n",
    "\n",
    "# Calculating Accuracy\n",
    "kNN_trainAtestB = accuracy_score(ytest_B, pred)\n",
    "print(\"Accuracy train(A), test(B): \",kNN_trainAtestB)"
   ]
  },
  {
   "cell_type": "code",
   "execution_count": 251,
   "metadata": {},
   "outputs": [
    {
     "data": {
      "text/plain": [
       "KNeighborsClassifier(algorithm='auto', leaf_size=30, metric='minkowski',\n",
       "           metric_params=None, n_jobs=None, n_neighbors=6, p=2,\n",
       "           weights='uniform')"
      ]
     },
     "execution_count": 251,
     "metadata": {},
     "output_type": "execute_result"
    }
   ],
   "source": [
    "# training the model on Category B data i.e. Restaurants Data\n",
    "model.fit(xtrain_B, ytrain_B)"
   ]
  },
  {
   "cell_type": "code",
   "execution_count": 252,
   "metadata": {},
   "outputs": [
    {
     "name": "stdout",
     "output_type": "stream",
     "text": [
      "Accuracy train(B), test(B):  0.6946386946386947\n"
     ]
    }
   ],
   "source": [
    "# Testing the trained model on Category B test data.\n",
    "pred= model.predict(xtest_B)\n",
    "\n",
    "# Calculating Accuracy\n",
    "kNN_trainBtestB = accuracy_score(ytest_B, pred)\n",
    "print(\"Accuracy train(B), test(B): \", kNN_trainBtestB)"
   ]
  },
  {
   "cell_type": "code",
   "execution_count": 253,
   "metadata": {},
   "outputs": [
    {
     "name": "stdout",
     "output_type": "stream",
     "text": [
      "Accuracy train(B), test(A):  0.5578703703703703\n"
     ]
    }
   ],
   "source": [
    "# Testing the trained model on Category A test data.\n",
    "pred= model.predict(xtest_A)\n",
    "\n",
    "# Calculating Accuracy\n",
    "kNN_trainBtestA = accuracy_score(ytest_A, pred)\n",
    "print(\"Accuracy train(B), test(A): \", kNN_trainBtestA)"
   ]
  },
  {
   "cell_type": "code",
   "execution_count": 254,
   "metadata": {},
   "outputs": [
    {
     "data": {
      "text/html": [
       "<div>\n",
       "<style scoped>\n",
       "    .dataframe tbody tr th:only-of-type {\n",
       "        vertical-align: middle;\n",
       "    }\n",
       "\n",
       "    .dataframe tbody tr th {\n",
       "        vertical-align: top;\n",
       "    }\n",
       "\n",
       "    .dataframe thead th {\n",
       "        text-align: right;\n",
       "    }\n",
       "</style>\n",
       "<table border=\"1\" class=\"dataframe\">\n",
       "  <thead>\n",
       "    <tr style=\"text-align: right;\">\n",
       "      <th></th>\n",
       "      <th>headers</th>\n",
       "      <th>data</th>\n",
       "    </tr>\n",
       "  </thead>\n",
       "  <tbody>\n",
       "    <tr>\n",
       "      <th>0</th>\n",
       "      <td>trainAtestA</td>\n",
       "      <td>0.726852</td>\n",
       "    </tr>\n",
       "    <tr>\n",
       "      <th>1</th>\n",
       "      <td>trainAtestB</td>\n",
       "      <td>0.703963</td>\n",
       "    </tr>\n",
       "    <tr>\n",
       "      <th>2</th>\n",
       "      <td>trainBtestB</td>\n",
       "      <td>0.694639</td>\n",
       "    </tr>\n",
       "    <tr>\n",
       "      <th>3</th>\n",
       "      <td>trainBtestA</td>\n",
       "      <td>0.557870</td>\n",
       "    </tr>\n",
       "  </tbody>\n",
       "</table>\n",
       "</div>"
      ],
      "text/plain": [
       "       headers      data\n",
       "0  trainAtestA  0.726852\n",
       "1  trainAtestB  0.703963\n",
       "2  trainBtestB  0.694639\n",
       "3  trainBtestA  0.557870"
      ]
     },
     "execution_count": 254,
     "metadata": {},
     "output_type": "execute_result"
    }
   ],
   "source": [
    "# Creating dataframe for model classified using k Nearest Neighbour Classifier\n",
    "Data = {\"headers\": [\"trainAtestA\", \"trainAtestB\", \"trainBtestB\", \"trainBtestA\"],\n",
    "        \"data\": [kNN_trainAtestA, kNN_trainAtestB, kNN_trainBtestB, kNN_trainBtestA]\n",
    "       }\n",
    "\n",
    "df = pd.DataFrame(Data)\n",
    "df"
   ]
  },
  {
   "cell_type": "markdown",
   "metadata": {},
   "source": [
    "Bar chart for visualizing the accuracy of predictions done of different test data using the trained model"
   ]
  },
  {
   "cell_type": "code",
   "execution_count": 255,
   "metadata": {},
   "outputs": [
    {
     "data": {
      "text/plain": [
       "[Text(0, 0, 'trainAtestA'),\n",
       " Text(0, 0, 'trainAtestB'),\n",
       " Text(0, 0, 'trainBtestB'),\n",
       " Text(0, 0, 'trainBtestA')]"
      ]
     },
     "execution_count": 255,
     "metadata": {},
     "output_type": "execute_result"
    },
    {
     "data": {
      "image/png": "[encoded data removed]",
      "text/plain": [
       "<Figure size 576x288 with 1 Axes>"
      ]
     },
     "metadata": {
      "needs_background": "light"
     },
     "output_type": "display_data"
    }
   ],
   "source": [
    "p = df.plot.bar(figsize=(8, 4))\n",
    "p.set_xlabel(\"Prediction Type\")\n",
    "p.set_ylabel(\"Accuracy\")\n",
    "p.set_xticklabels(df[\"headers\"], rotation=30)"
   ]
  },
  {
   "cell_type": "markdown",
   "metadata": {},
   "source": [
    "### Naive bayes"
   ]
  },
  {
   "cell_type": "code",
   "execution_count": 256,
   "metadata": {},
   "outputs": [
    {
     "data": {
      "text/plain": [
       "GaussianNB(priors=None, var_smoothing=1e-09)"
      ]
     },
     "execution_count": 256,
     "metadata": {},
     "output_type": "execute_result"
    }
   ],
   "source": [
    "from sklearn.naive_bayes import GaussianNB\n",
    "model = GaussianNB()\n",
    "\n",
    "# training the model on Category B data i.e. Hotel and Travel Data\n",
    "model.fit(xtrain_A.toarray(), ytrain_A)"
   ]
  },
  {
   "cell_type": "code",
   "execution_count": 257,
   "metadata": {},
   "outputs": [
    {
     "name": "stdout",
     "output_type": "stream",
     "text": [
      "Accuracy train(A), test(A):  0.7106481481481481\n"
     ]
    }
   ],
   "source": [
    "# Testing the trained model on Category A test data.\n",
    "pred= model.predict(xtest_A.toarray())\n",
    "\n",
    "# Calculating Accuracy\n",
    "NB_trainAtestA = accuracy_score(ytest_A, pred)\n",
    "print(\"Accuracy train(A), test(A): \", NB_trainAtestA)"
   ]
  },
  {
   "cell_type": "code",
   "execution_count": 258,
   "metadata": {},
   "outputs": [
    {
     "name": "stdout",
     "output_type": "stream",
     "text": [
      "Accuracy train(A), test(B): 0.5594405594405595\n"
     ]
    }
   ],
   "source": [
    "# Testing the trained model on Category B test data.\n",
    "pred= model.predict(xtest_B.toarray())\n",
    "\n",
    "# Calculating Accuracy\n",
    "NB_trainAtestB = accuracy_score(ytest_B, pred)\n",
    "print(\"Accuracy train(A), test(B):\", NB_trainAtestB)"
   ]
  },
  {
   "cell_type": "code",
   "execution_count": 259,
   "metadata": {},
   "outputs": [
    {
     "data": {
      "text/plain": [
       "GaussianNB(priors=None, var_smoothing=1e-09)"
      ]
     },
     "execution_count": 259,
     "metadata": {},
     "output_type": "execute_result"
    }
   ],
   "source": [
    "# training the model on Category B data i.e. Restaurants Data\n",
    "model.fit(xtrain_B.toarray(), ytrain_B)"
   ]
  },
  {
   "cell_type": "code",
   "execution_count": 260,
   "metadata": {},
   "outputs": [
    {
     "name": "stdout",
     "output_type": "stream",
     "text": [
      "Accuracy train(B), test(B):  0.7902097902097902\n"
     ]
    }
   ],
   "source": [
    "# Testing the trained model on Category B test data.\n",
    "pred= model.predict(xtest_B.toarray())\n",
    "\n",
    "#Calculating Accuracy\n",
    "NB_trainBtestB = accuracy_score(ytest_B, pred)\n",
    "print(\"Accuracy train(B), test(B): \", NB_trainBtestB)"
   ]
  },
  {
   "cell_type": "code",
   "execution_count": 261,
   "metadata": {},
   "outputs": [
    {
     "name": "stdout",
     "output_type": "stream",
     "text": [
      "Accuracy train(B), test(A):  0.6574074074074074\n"
     ]
    }
   ],
   "source": [
    "# Testing the trained model on Category A test data.\n",
    "pred= model.predict(xtest_A.toarray())\n",
    "\n",
    "# Calculating Accuracy\n",
    "NB_trainBtestA = accuracy_score(ytest_A, pred)\n",
    "print(\"Accuracy train(B), test(A): \", NB_trainBtestA)"
   ]
  },
  {
   "cell_type": "code",
   "execution_count": 262,
   "metadata": {},
   "outputs": [
    {
     "data": {
      "text/html": [
       "<div>\n",
       "<style scoped>\n",
       "    .dataframe tbody tr th:only-of-type {\n",
       "        vertical-align: middle;\n",
       "    }\n",
       "\n",
       "    .dataframe tbody tr th {\n",
       "        vertical-align: top;\n",
       "    }\n",
       "\n",
       "    .dataframe thead th {\n",
       "        text-align: right;\n",
       "    }\n",
       "</style>\n",
       "<table border=\"1\" class=\"dataframe\">\n",
       "  <thead>\n",
       "    <tr style=\"text-align: right;\">\n",
       "      <th></th>\n",
       "      <th>headers</th>\n",
       "      <th>data</th>\n",
       "    </tr>\n",
       "  </thead>\n",
       "  <tbody>\n",
       "    <tr>\n",
       "      <th>0</th>\n",
       "      <td>trainAtestA</td>\n",
       "      <td>0.710648</td>\n",
       "    </tr>\n",
       "    <tr>\n",
       "      <th>1</th>\n",
       "      <td>trainAtestB</td>\n",
       "      <td>0.559441</td>\n",
       "    </tr>\n",
       "    <tr>\n",
       "      <th>2</th>\n",
       "      <td>trainBtestB</td>\n",
       "      <td>0.790210</td>\n",
       "    </tr>\n",
       "    <tr>\n",
       "      <th>3</th>\n",
       "      <td>trainBtestA</td>\n",
       "      <td>0.657407</td>\n",
       "    </tr>\n",
       "  </tbody>\n",
       "</table>\n",
       "</div>"
      ],
      "text/plain": [
       "       headers      data\n",
       "0  trainAtestA  0.710648\n",
       "1  trainAtestB  0.559441\n",
       "2  trainBtestB  0.790210\n",
       "3  trainBtestA  0.657407"
      ]
     },
     "execution_count": 262,
     "metadata": {},
     "output_type": "execute_result"
    }
   ],
   "source": [
    "# Creating dataframe for model classified using Naive Bayes Classifier\n",
    "Data = {\"headers\": [\"trainAtestA\", \"trainAtestB\", \"trainBtestB\", \"trainBtestA\"],\n",
    "        \"data\": [NB_trainAtestA, NB_trainAtestB, NB_trainBtestB, NB_trainBtestA]\n",
    "       }\n",
    "\n",
    "df = pd.DataFrame(Data)\n",
    "df"
   ]
  },
  {
   "cell_type": "markdown",
   "metadata": {},
   "source": [
    "Bar chart for visualizing the accuracy of predictions done of different test data using the trained model"
   ]
  },
  {
   "cell_type": "code",
   "execution_count": 263,
   "metadata": {},
   "outputs": [
    {
     "data": {
      "text/plain": [
       "[Text(0, 0, 'trainAtestA'),\n",
       " Text(0, 0, 'trainAtestB'),\n",
       " Text(0, 0, 'trainBtestB'),\n",
       " Text(0, 0, 'trainBtestA')]"
      ]
     },
     "execution_count": 263,
     "metadata": {},
     "output_type": "execute_result"
    },
    {
     "data": {
      "image/png": "[encoded data removed]",
      "text/plain": [
       "<Figure size 576x288 with 1 Axes>"
      ]
     },
     "metadata": {
      "needs_background": "light"
     },
     "output_type": "display_data"
    }
   ],
   "source": [
    "p = df.plot.bar(figsize=(8, 4))\n",
    "p.set_xlabel(\"Prediction Type\")\n",
    "p.set_ylabel(\"Accuracy\")\n",
    "p.set_xticklabels(df[\"headers\"], rotation=30)"
   ]
  },
  {
   "cell_type": "markdown",
   "metadata": {},
   "source": [
    "### Conclusion\n",
    "\n",
    "We have implemented the Ensemble technique in order to choose the best classifier for our model.\n",
    "We have implemented the following classifiers.\n",
    "1. Logistic Regression\n",
    "2. Support Vector Machine\n",
    "3. Random Forest\n",
    "4. k-nn classifier\n",
    "5. Naive Bayes Classifier <br>\n",
    "\n",
    "We are going to compare the performance of each classifier model on the same dataset and on the different dataset. \n",
    "We will select the best performing classifiers which have the best accuarcy when subjected to the test data of both the datasets. "
   ]
  },
  {
   "cell_type": "markdown",
   "metadata": {},
   "source": [
    "##### Observations for each classifier performance when trained and tested on same category data\n",
    "\n",
    "For Hotel and Travel dataset, the model trained using Support Vector Machine Classifier performs well as it gives the highest accuracy (81%) when compared to accuracy of other classifiers. Similary, for Restaurant dataset, Logistic Regression classifier give the best performance result (86%). \n",
    "If we have to choose one classifier which performs the best when trained and tested on the same dataset, we can choose Support Vector Machine classifier as it performs the best with accuracy=81% for Hotel and Travel dataset and accuracy=83% for Restaurant dataset."
   ]
  },
  {
   "cell_type": "code",
   "execution_count": 264,
   "metadata": {},
   "outputs": [],
   "source": [
    "Data = {\"Classifiers\": [\"Logistic Regression\", \"Support Vector Machine\", \"Random Forest\", \"k Nearest Neighbour\", \"Naive Bayes\"],\n",
    "        \"trainAtestA\": [LR_trainAtestA, SVM_trainAtestA, RF_trainAtestA, kNN_trainAtestA, NB_trainAtestA],\n",
    "        \"trainAtestB\": [LR_trainAtestB, SVM_trainAtestB, RF_trainAtestB, kNN_trainAtestB, NB_trainAtestB],\n",
    "        \"trainBtestB\": [LR_trainBtestB, SVM_trainBtestB, RF_trainBtestB, kNN_trainBtestB, NB_trainBtestB],\n",
    "        \"trainBtestA\": [LR_trainBtestA, SVM_trainBtestA, RF_trainBtestA, kNN_trainBtestA, NB_trainBtestA]\n",
    "       }\n",
    "\n",
    "df = pd.DataFrame(Data)"
   ]
  },
  {
   "cell_type": "code",
   "execution_count": 265,
   "metadata": {},
   "outputs": [
    {
     "data": {
      "text/plain": [
       "<matplotlib.legend.Legend at 0x19ccb8091d0>"
      ]
     },
     "execution_count": 265,
     "metadata": {},
     "output_type": "execute_result"
    },
    {
     "data": {
      "image/png": "[encoded data removed]",
      "text/plain": [
       "<Figure size 720x288 with 1 Axes>"
      ]
     },
     "metadata": {
      "needs_background": "light"
     },
     "output_type": "display_data"
    }
   ],
   "source": [
    "df1 = df[[\"Classifiers\", \"trainAtestA\", \"trainBtestB\"]]\n",
    "\n",
    "p = df1.plot.bar(figsize=(10, 4))\n",
    "p.set_xlabel(\"Classifier Type\")\n",
    "p.set_ylabel(\"Accuracy\")\n",
    "p.set_xticklabels(df[\"Classifiers\"], rotation=0)\n",
    "p.legend(loc='center left', bbox_to_anchor=(1.0, 0.8))"
   ]
  },
  {
   "cell_type": "markdown",
   "metadata": {},
   "source": [
    "##### Observations for each classifier performance when trained and tested on different category data\n",
    "\n",
    "Considering that we have chosen Support Vector Machine Classifier as the best classifier for Hotel And Travel dataset we will now compare the performance of the Restaurant dataset on this model, we get the accuracy of 74%. \n",
    "\n",
    "Similarly for Restaurant dataset we have chosen Logistic Regression Classifier to be the best and will compare the performance of the Hotel and Travel dataset on this model and we get accuracy of 78%. "
   ]
  },
  {
   "cell_type": "code",
   "execution_count": 266,
   "metadata": {},
   "outputs": [
    {
     "data": {
      "text/plain": [
       "<matplotlib.legend.Legend at 0x19ccb809080>"
      ]
     },
     "execution_count": 266,
     "metadata": {},
     "output_type": "execute_result"
    },
    {
     "data": {
      "image/png": "[encoded data removed]",
      "text/plain": [
       "<Figure size 720x288 with 1 Axes>"
      ]
     },
     "metadata": {
      "needs_background": "light"
     },
     "output_type": "display_data"
    }
   ],
   "source": [
    "df2 = df[[\"Classifiers\", \"trainAtestB\", \"trainBtestA\"]]\n",
    "\n",
    "p = df2.plot.bar(figsize=(10, 4))\n",
    "p.set_xlabel(\"Classifier Type\")\n",
    "p.set_ylabel(\"Accuracy\")\n",
    "p.set_xticklabels(df[\"Classifiers\"], rotation=0)\n",
    "p.legend(loc='center left', bbox_to_anchor=(1.0, 0.8))"
   ]
  },
  {
   "cell_type": "markdown",
   "metadata": {},
   "source": [
    "Considering that the trained model should perform well for any unknown new data, we can choose the classifier that performs well when tested on different dataset. We can conclude that Logistic Regression model performs the best and Random Forest model\n",
    "is also recommended."
   ]
  },
  {
   "cell_type": "code",
   "execution_count": 267,
   "metadata": {},
   "outputs": [
    {
     "data": {
      "text/html": [
       "<div>\n",
       "<style scoped>\n",
       "    .dataframe tbody tr th:only-of-type {\n",
       "        vertical-align: middle;\n",
       "    }\n",
       "\n",
       "    .dataframe tbody tr th {\n",
       "        vertical-align: top;\n",
       "    }\n",
       "\n",
       "    .dataframe thead th {\n",
       "        text-align: right;\n",
       "    }\n",
       "</style>\n",
       "<table border=\"1\" class=\"dataframe\">\n",
       "  <thead>\n",
       "    <tr style=\"text-align: right;\">\n",
       "      <th></th>\n",
       "      <th>Classifiers</th>\n",
       "      <th>trainAtestA</th>\n",
       "      <th>trainAtestB</th>\n",
       "      <th>trainBtestB</th>\n",
       "      <th>trainBtestA</th>\n",
       "    </tr>\n",
       "  </thead>\n",
       "  <tbody>\n",
       "    <tr>\n",
       "      <th>0</th>\n",
       "      <td>Logistic Regression</td>\n",
       "      <td>0.798611</td>\n",
       "      <td>0.780886</td>\n",
       "      <td>0.862471</td>\n",
       "      <td>0.789352</td>\n",
       "    </tr>\n",
       "    <tr>\n",
       "      <th>1</th>\n",
       "      <td>Support Vector Machine</td>\n",
       "      <td>0.810185</td>\n",
       "      <td>0.745921</td>\n",
       "      <td>0.834499</td>\n",
       "      <td>0.754630</td>\n",
       "    </tr>\n",
       "    <tr>\n",
       "      <th>2</th>\n",
       "      <td>Random Forest</td>\n",
       "      <td>0.782407</td>\n",
       "      <td>0.764569</td>\n",
       "      <td>0.834499</td>\n",
       "      <td>0.768519</td>\n",
       "    </tr>\n",
       "    <tr>\n",
       "      <th>3</th>\n",
       "      <td>k Nearest Neighbour</td>\n",
       "      <td>0.726852</td>\n",
       "      <td>0.703963</td>\n",
       "      <td>0.694639</td>\n",
       "      <td>0.557870</td>\n",
       "    </tr>\n",
       "    <tr>\n",
       "      <th>4</th>\n",
       "      <td>Naive Bayes</td>\n",
       "      <td>0.710648</td>\n",
       "      <td>0.559441</td>\n",
       "      <td>0.790210</td>\n",
       "      <td>0.657407</td>\n",
       "    </tr>\n",
       "  </tbody>\n",
       "</table>\n",
       "</div>"
      ],
      "text/plain": [
       "              Classifiers  trainAtestA  trainAtestB  trainBtestB  trainBtestA\n",
       "0     Logistic Regression     0.798611     0.780886     0.862471     0.789352\n",
       "1  Support Vector Machine     0.810185     0.745921     0.834499     0.754630\n",
       "2           Random Forest     0.782407     0.764569     0.834499     0.768519\n",
       "3     k Nearest Neighbour     0.726852     0.703963     0.694639     0.557870\n",
       "4             Naive Bayes     0.710648     0.559441     0.790210     0.657407"
      ]
     },
     "execution_count": 267,
     "metadata": {},
     "output_type": "execute_result"
    }
   ],
   "source": [
    "df"
   ]
  }
 ],
 "metadata": {
  "kernelspec": {
   "display_name": "Python 3",
   "language": "python",
   "name": "python3"
  },
  "language_info": {
   "codemirror_mode": {
    "name": "ipython",
    "version": 3
   },
   "file_extension": ".py",
   "mimetype": "text/x-python",
   "name": "python",
   "nbconvert_exporter": "python",
   "pygments_lexer": "ipython3",
   "version": "3.7.3"
  }
 },
 "nbformat": 4,
 "nbformat_minor": 2
}
